{
 "cells": [
  {
   "cell_type": "code",
   "execution_count": null,
   "id": "17845d88",
   "metadata": {},
   "outputs": [],
   "source": [
    "# storia più su nns convolutive, capsulenetwork, evoluzione, problemi di classificazione\n",
    "\n",
    "\n",
    "\n",
    "\n",
    "\n",
    "# usare affnist\n",
    "\n",
    "\n",
    "\n",
    "# prova minst su affnist e verificare risultati con paper\n",
    "# testare su dataset normale + rotraslato*2\n",
    "# clustering per training\n",
    "# risultato si su db normale sia rototraslato\n",
    "#\n",
    "# + provare no shearing\n",
    "\n",
    "\n",
    "# matrice di confusione normalizzata sia su righe che su colonne (tot 3 matrici)"
   ]
  },
  {
   "cell_type": "markdown",
   "id": "73928d00",
   "metadata": {},
   "source": [
    "### Import statements"
   ]
  },
  {
   "cell_type": "code",
   "execution_count": 1,
   "id": "a49a542b",
   "metadata": {},
   "outputs": [],
   "source": [
    "%%capture\n",
    "\n",
    "import numpy as np\n",
    "import tensorflow as tf\n",
    "\n",
    "#mandatory for correct load and save of files\n",
    "%cd /Users/paolobonomi/Work/Python/CapsNetwork\n",
    "\n",
    "# for project class\n",
    "import sys\n",
    "sys.path.append(\"/Users/paolobonomi/Work/Python/CapsNetwork/src\")\n",
    "\n",
    "from setup import Setup # set up model and dataset\n",
    "import perfu # performance function such as confusion matrix etc...\n",
    "import printer"
   ]
  },
  {
   "cell_type": "markdown",
   "id": "31d895f3",
   "metadata": {},
   "source": [
    "### Retrieve model and dataset"
   ]
  },
  {
   "cell_type": "code",
   "execution_count": null,
   "id": "bea07b69",
   "metadata": {},
   "outputs": [],
   "source": [
    "train_dataset_type = Setup.d_k[1]\n",
    "test_dataset_type = Setup.d_k[0]"
   ]
  },
  {
   "cell_type": "code",
   "execution_count": null,
   "id": "c341c92e",
   "metadata": {},
   "outputs": [],
   "source": [
    "setup = Setup(train_cfg=train_dataset_type, test_cfg=test_dataset_type, epochs=10)\n",
    "\n",
    "model = setup.get_model()\n",
    "epochs = model.get_epochs()\n",
    "\n",
    "X_train, y_train = setup.get_train_images()\n",
    "X_test, y_test = setup.get_test_images()\n",
    "dataset = setup.get_dataset()\n",
    "training = setup.get_testing()"
   ]
  },
  {
   "cell_type": "code",
   "execution_count": null,
   "id": "0a75e6b9",
   "metadata": {},
   "outputs": [],
   "source": [
    "printer.pretty_experiment_overview(setup)"
   ]
  },
  {
   "cell_type": "markdown",
   "id": "665744eb",
   "metadata": {},
   "source": [
    "### Perfomance data"
   ]
  },
  {
   "cell_type": "code",
   "execution_count": null,
   "id": "644a8eed",
   "metadata": {},
   "outputs": [],
   "source": [
    "should_create_matrix = True"
   ]
  },
  {
   "cell_type": "code",
   "execution_count": null,
   "id": "bba22fb2",
   "metadata": {},
   "outputs": [],
   "source": [
    "if should_create_matrix:\n",
    "    confusionmatrix_test = perfu.get_confusion_mat(model.predict, testing, \"test\")\n",
    "    %store confusionmatrix_test\n",
    "    \n",
    "    confusionmatrix_train = perfu.get_confusion_mat(model.predict, dataset, \"train\")\n",
    "    %store confusionmatrix_train\n",
    "else:\n",
    "    %store -r confusionmatrix_train\n",
    "    %store -r confusionmatrix_test \n",
    "    \n",
    "acc_train = perfu.get_accuracy(perfu.normalize_matrix( confusionmatrix_train, X_train.shape[0]))\n",
    "acc_test = perfu.get_accuracy(perfu.normalize_matrix( confusionmatrix_test, X_test.shape[0]))"
   ]
  },
  {
   "cell_type": "markdown",
   "id": "fe79967e",
   "metadata": {},
   "source": [
    "#### Testing Confusion Table"
   ]
  },
  {
   "cell_type": "code",
   "execution_count": null,
   "id": "d95039c1",
   "metadata": {},
   "outputs": [],
   "source": [
    "values, columns, index = perfu.get_confusion_table(confusionmatrix_test, X_test.shape[0])\n",
    "printer.print_confusion_tables(values, columns, index)"
   ]
  },
  {
   "cell_type": "markdown",
   "id": "a757c5ea",
   "metadata": {},
   "source": [
    "#### Confusion Matrix"
   ]
  },
  {
   "cell_type": "code",
   "execution_count": null,
   "id": "2b9ffed5",
   "metadata": {
    "scrolled": false
   },
   "outputs": [],
   "source": [
    "printer.print_matrix(\n",
    "    np.around(perfu.normalize_matrix( confusionmatrix_train, X_train.shape[0]), decimals=3),\n",
    "    'CapsNet AFFNIST (10 epochs) Confusion Matrix on Training Set ('+str(int(X_train.shape[0]/1000))+'k images)',\n",
    "    'Actual Digit',\n",
    "    'Predicted Digit',\n",
    "    perfu.headers,\n",
    "    perfu.headers)"
   ]
  },
  {
   "cell_type": "code",
   "execution_count": null,
   "id": "31470912",
   "metadata": {
    "scrolled": false
   },
   "outputs": [],
   "source": [
    "printer.print_matrix(\n",
    "    np.around(perfu.normalize_matrix( confusionmatrix_test, X_test.shape[0]), decimals=3),\n",
    "    'CapsNet AFFNIST (10 epochs) Confusion Matrix on Testing Set ('+str(int(X_test.shape[0]/1000))+'k images)',\n",
    "    'Actual Digit',\n",
    "    'Predicted Digit',\n",
    "    perfu.headers,\n",
    "    perfu.headers)"
   ]
  },
  {
   "cell_type": "markdown",
   "id": "7cd4840b",
   "metadata": {},
   "source": [
    "#### Accuracy"
   ]
  },
  {
   "cell_type": "code",
   "execution_count": null,
   "id": "ec9d22ae",
   "metadata": {},
   "outputs": [],
   "source": [
    "printer.print_accuracy(acc_train, acc_test, X_train.shape[0], X_test.shape[0])"
   ]
  },
  {
   "cell_type": "markdown",
   "id": "bc86cca1",
   "metadata": {},
   "source": [
    "### Error cases"
   ]
  },
  {
   "cell_type": "code",
   "execution_count": null,
   "id": "7e9b4729",
   "metadata": {},
   "outputs": [],
   "source": [
    "off = 44\n",
    "n = 110\n",
    "idx, pred = perfu.get_error_index(model, X_test[off:off+n], y_test[off:off+n], off)\n",
    "\n",
    "print(idx)\n",
    "print(pred)"
   ]
  },
  {
   "cell_type": "code",
   "execution_count": null,
   "id": "061c4de7",
   "metadata": {
    "scrolled": false
   },
   "outputs": [],
   "source": [
    "for i in range(len(idx)):\n",
    "    img = idx[i]\n",
    "    printer.print_image_and_prediction(X_test[img], y_test[img], pred[i], 40 )\n"
   ]
  },
  {
   "cell_type": "markdown",
   "id": "0d25f921",
   "metadata": {},
   "source": [
    "### Network Conv1/PrimaryCapsule Output"
   ]
  },
  {
   "cell_type": "code",
   "execution_count": null,
   "id": "4ba7c1c4",
   "metadata": {
    "scrolled": false
   },
   "outputs": [],
   "source": [
    "printer.print_network(model, X_test[45], y_test[45], 40)"
   ]
  },
  {
   "cell_type": "markdown",
   "id": "31c7d52f",
   "metadata": {},
   "source": [
    "### Network Kernels"
   ]
  },
  {
   "cell_type": "code",
   "execution_count": null,
   "id": "31b206e3",
   "metadata": {
    "scrolled": false
   },
   "outputs": [],
   "source": [
    "printer.print_fixed_network_params(model)"
   ]
  }
 ],
 "metadata": {
  "kernelspec": {
   "display_name": "Python 3 (ipykernel)",
   "language": "python",
   "name": "python3"
  },
  "language_info": {
   "codemirror_mode": {
    "name": "ipython",
    "version": 3
   },
   "file_extension": ".py",
   "mimetype": "text/x-python",
   "name": "python",
   "nbconvert_exporter": "python",
   "pygments_lexer": "ipython3",
   "version": "3.9.12"
  }
 },
 "nbformat": 4,
 "nbformat_minor": 5
}
