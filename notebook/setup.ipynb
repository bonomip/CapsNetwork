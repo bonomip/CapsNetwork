{
 "cells": [
  {
   "cell_type": "code",
   "execution_count": 1,
   "id": "17845d88",
   "metadata": {},
   "outputs": [],
   "source": [
    "# storia più su nns convolutive, capsulenetwork, evoluzione, problemi di classificazione\n",
    "\n",
    "\n",
    "\n",
    "\n",
    "\n",
    "# usare affnist\n",
    "\n",
    "\n",
    "\n",
    "# prova minst su affnist e verificare risultati con paper\n",
    "# testare su dataset normale + rotraslato*2\n",
    "# clustering per training\n",
    "# risultato si su db normale sia rototraslato\n",
    "#\n",
    "# + provare no shearing\n",
    "\n",
    "\n",
    "# matrice di confusione normalizzata sia su righe che su colonne (tot 3 matrici)"
   ]
  },
  {
   "cell_type": "markdown",
   "id": "73928d00",
   "metadata": {},
   "source": [
    "### Import statements"
   ]
  },
  {
   "cell_type": "code",
   "execution_count": 2,
   "id": "60fbff6d",
   "metadata": {},
   "outputs": [],
   "source": [
    "%%capture\n",
    "\n",
    "import numpy as np\n",
    "import tensorflow as tf\n",
    "from datetime import datetime\n",
    "\n",
    "# for affine transformation functions\n",
    "import torchvision.transforms as transforms\n",
    "import torchvision.transforms.functional as fn\n",
    "import torch\n",
    "import math\n",
    "\n",
    "# for loading affNIST_original\n",
    "import scipy.io as spio\n",
    "\n",
    "#for training progress bar\n",
    "from tqdm import tqdm\n",
    "\n",
    "#for image display\n",
    "from matplotlib import pyplot as plt\n",
    "from mpl_toolkits.axes_grid1 import ImageGrid\n",
    "\n",
    "# for performances functions\n",
    "from numpy import sqrt \n",
    "import seaborn as sns\n",
    "import pandas as pd\n",
    "\n",
    "#mandatory for correct load and save of files\n",
    "%cd /Users/paolobonomi/Work/Python/CapsNetwork\n",
    "\n",
    "# for project class\n",
    "import sys\n",
    "sys.path.append(\"/Users/paolobonomi/Work/Python/CapsNetwork/src\")\n",
    "from setup import Setup"
   ]
  },
  {
   "cell_type": "markdown",
   "id": "bf30ae78",
   "metadata": {},
   "source": [
    "### Retrieve model and dataset"
   ]
  },
  {
   "cell_type": "code",
   "execution_count": 3,
   "id": "f6504b5c",
   "metadata": {},
   "outputs": [
    {
     "name": "stdout",
     "output_type": "stream",
     "text": [
      "Found GPU at: /device:GPU:0Metal device set to: Apple M1\n",
      "\n",
      "Load Custom affNIST train dataset _v1... \n",
      "Load Custom affNIST test dataset _v1... \n",
      "Processing dataset... \n"
     ]
    },
    {
     "name": "stderr",
     "output_type": "stream",
     "text": [
      "2022-10-20 18:01:37.164941: I tensorflow/core/common_runtime/pluggable_device/pluggable_device_factory.cc:305] Could not identify NUMA node of platform GPU ID 0, defaulting to 0. Your kernel may not have been built with NUMA support.\n",
      "2022-10-20 18:01:37.165013: I tensorflow/core/common_runtime/pluggable_device/pluggable_device_factory.cc:271] Created TensorFlow device (/device:GPU:0 with 0 MB memory) -> physical PluggableDevice (device: 0, name: METAL, pci bus id: <undefined>)\n",
      "2022-10-20 18:01:37.337036: I tensorflow/core/common_runtime/pluggable_device/pluggable_device_factory.cc:305] Could not identify NUMA node of platform GPU ID 0, defaulting to 0. Your kernel may not have been built with NUMA support.\n",
      "2022-10-20 18:01:37.337057: I tensorflow/core/common_runtime/pluggable_device/pluggable_device_factory.cc:271] Created TensorFlow device (/job:localhost/replica:0/task:0/device:GPU:0 with 0 MB memory) -> physical PluggableDevice (device: 0, name: METAL, pci bus id: <undefined>)\n"
     ]
    },
    {
     "name": "stdout",
     "output_type": "stream",
     "text": [
      "Creating model... \n",
      "Loading model... \n"
     ]
    },
    {
     "name": "stderr",
     "output_type": "stream",
     "text": [
      "2022-10-20 18:01:37.978103: W tensorflow/core/platform/profile_utils/cpu_utils.cc:128] Failed to get CPU frequency: 0 Hz\n",
      "2022-10-20 18:01:37.978171: I tensorflow/core/grappler/optimizers/custom_graph_optimizer_registry.cc:113] Plugin optimizer for device_type GPU is enabled.\n",
      "2022-10-20 18:01:40.731737: I tensorflow/core/grappler/optimizers/custom_graph_optimizer_registry.cc:113] Plugin optimizer for device_type GPU is enabled.\n"
     ]
    },
    {
     "name": "stdout",
     "output_type": "stream",
     "text": [
      "<class 'setup.Setup'>\n",
      "<class 'capsuleNetwork_v2.CapsuleNetwork'>\n",
      "<class 'tensorflow.python.framework.ops.EagerTensor'>\n"
     ]
    }
   ],
   "source": [
    "pippo = Setup()\n",
    "print(type(pippo))\n",
    "model = pippo.get_model()\n",
    "print(type(model))\n",
    "X_train, y_train = pippo.get_train_images()\n",
    "print(type(X_train))\n",
    "X_test, y_test = pippo.get_test_images()"
   ]
  },
  {
   "cell_type": "markdown",
   "id": "690a7efb",
   "metadata": {},
   "source": [
    "### Performance Analizying Functions"
   ]
  },
  {
   "cell_type": "code",
   "execution_count": 4,
   "id": "57a698a1",
   "metadata": {},
   "outputs": [],
   "source": [
    "headers = [\"0\", \"1\", \"2\", \"3\", \"4\", \"5\", \"6\", \"7\", \"8\", \"9\"]\n",
    "\n",
    "def get_confusion_table_for(mat, digit, tot):\n",
    "    \n",
    "    dict_ = {}\n",
    "    \n",
    "    # condition positive (how many images were < digit >)\n",
    "    p = 0\n",
    "    for i in range(0, 10):\n",
    "        p += mat[i, digit]\n",
    "    dict_[\"Condition Positive\"] = p\n",
    "    \n",
    "    #condition negative (how many images were not < digit > )\n",
    "    n = tot - p\n",
    "    dict_[\"Condition Negative\"] = n \n",
    "    \n",
    "    tp = mat[digit, digit]\n",
    "    dict_[\"True Positive (TN)\"] = tp\n",
    "    \n",
    "    fn = -tp\n",
    "    for i in range(0, 10):\n",
    "        fn += mat[i, digit]\n",
    "    dict_[\"False Negative (FN)\"] = fn\n",
    "    \n",
    "    fp = -tp\n",
    "    for i in range(0, 10):\n",
    "        fp += mat[digit, i]\n",
    "    dict_[\"False Positive (FP)\"] = fp \n",
    "    \n",
    "    tn = tot + tp    \n",
    "    for i in range(0, 10):\n",
    "        tn -= mat[digit, i] + mat[i, digit]\n",
    "    dict_[\"True Negative (TN)\"] = tn \n",
    "\n",
    "    tpr = tp / p\n",
    "    dict_[\"Sensitivity (TPR)\"] = tpr \n",
    "\n",
    "    tnr = tn / n\n",
    "    dict_[\"Specificity (TNR)\"] = tnr \n",
    "\n",
    "    ppv = tp / (tp + fp)\n",
    "    dict_[\"Positive Predictive Value (PPV)\"] = ppv\n",
    "\n",
    "    npv = tn / ( tn + fn )\n",
    "    dict_[\"Negative Predictive Value (NPV)\"] = npv \n",
    "\n",
    "    fnr = 1 - tpr\n",
    "    dict_[\"False Negative Rate (FNR)\"] = fnr \n",
    "\n",
    "    fpr = 1 - tnr\n",
    "    dict_[\"False Positive Rate (FPR)\"] = fpr \n",
    "\n",
    "    fdr = 1 - ppv\n",
    "    dict_[\"False Discovery Rate (FDR)\"] = fdr \n",
    "\n",
    "    for_ = 1 - npv\n",
    "    dict_[\"False Omission Rate (FOR)\"] = for_ \n",
    "\n",
    "    lr_p = tpr/fpr\n",
    "    dict_[\"Positive Likelihood Ratio (LR+)\"] = int(lr_p) \n",
    "    \n",
    "    lr_n = fnr/tnr\n",
    "    dict_[\"Negative Likelihood Ratio (LR-)\"] = lr_n \n",
    "\n",
    "    pt = sqrt( fpr ) / ( sqrt(tpr) * sqrt(fpr) )\n",
    "    dict_[\"Prevalence Threshold (PT)\"] = pt \n",
    "\n",
    "    ts = tp / ( tp + fn + fp )\n",
    "    dict_[\"Threat Score\"] = ts \n",
    "\n",
    "    prevalence = p / tot\n",
    "    dict_[\"Prevalence\"] = prevalence \n",
    "    \n",
    "    acc = ( tp + tn ) / tot\n",
    "    dict_[\"Accuracy (ACC)\"] = acc \n",
    "\n",
    "    ba = ( tpr * tnr ) / 2\n",
    "    dict_[\"Balanced Accuracy\"] = ba \n",
    "\n",
    "    f1 = ( 2*tp ) / ( 2*tp + fp + fn )\n",
    "    dict_[\"F1 Score\"] = f1 \n",
    "\n",
    "    mcc = ( ( tp * tn ) - ( fp * fn ) ) / sqrt( ( tp+fp )*( tp*fn )*( tn+fp )*(tn+fn) )\n",
    "    dict_[\"Matthews Correlation Coefficient (MCC)\"] = mcc\n",
    "    \n",
    "    fm = sqrt( ppv * tpr )\n",
    "    dict_[\"Fowlkes–Mallows Index (FM)\"] = fm\n",
    "    \n",
    "    bm = tpr + tnr - 1\n",
    "    dict_[\"Bookmaker Informedness (BM)\"] = bm\n",
    "    \n",
    "    mk = ppv + npv - 1\n",
    "    dict_[\"Markedness (MK)\"] = mk\n",
    "    \n",
    "    #from 0 to inf\n",
    "    dor = lr_p / lr_n\n",
    "    dict_[\"Diagnostic odds ratio (DOR)\"] = int(dor)\n",
    "    \n",
    "    header = np.array(list(dict_.keys()))\n",
    "    values = np.array(list(dict_.values()))\n",
    "    \n",
    "    return values, header\n",
    "\n",
    "def get_accuracy(matrix):\n",
    "    a = 0        \n",
    "    for i in range(0, 10):        \n",
    "        a += matrix[i, i]\n",
    "    \n",
    "    return a\n",
    "\n",
    "def get_confusion_mat(predict_function, model, data, name):\n",
    "    matrix = np.zeros((10,10))\n",
    "    \n",
    "    with tqdm(total=len(data)) as pbar:\n",
    "        \n",
    "        description = \"Creating \"+name+\" confusion matrix\"\n",
    "        pbar.set_description_str(description)\n",
    "        for X_batch, y_batch in data:\n",
    "            \n",
    "            res = predict_function(model, X_batch)\n",
    "            for i in range(0, y_batch.shape[0]):\n",
    "                \n",
    "                matrix[y_batch[i], res[i]] += 1 # row, col\n",
    "        \n",
    "            pbar.update(1)\n",
    "\n",
    "    return matrix\n",
    "\n",
    "def normalize_matrix(matrix, tot):\n",
    "    mat = matrix.copy()\n",
    "    for i in range(0, 10):\n",
    "        for j in range(0, 10):\n",
    "            mat[i, j] = (mat[i, j] / tot) * 100  \n",
    "    return mat\n",
    "\n",
    "def print_eval_params(mat):\n",
    "    \n",
    "    tot_in = 0\n",
    "    tot_out = 0\n",
    "    \n",
    "    for j in range(0, 10):\n",
    "        digit = j\n",
    "        \n",
    "        v = 0\n",
    "        for i in range(0, 10):\n",
    "            v += mat[digit, i]\n",
    "        k = mat[digit, digit]\n",
    "        tot_out += (k/v)\n",
    "        r = (k/v)*100\n",
    "        \n",
    "        \n",
    "        #the model has predict digit v times, k of that was right\n",
    "        #osservo l'output, qual'è la probabilità che il modello abbia classificato in modo corretto?\n",
    "        print(\"Proportion of digit < \"+str(digit)+\" > that was correctly identified =\\t\\t\"+str(r)+\"%\") #sommo sulla riga\n",
    "\n",
    "        v = 0\n",
    "        for i in range(0, 10):\n",
    "            v += mat[i, digit]  \n",
    "        k = mat[digit, digit]\n",
    "        tot_in += (k/v)\n",
    "        r = (k/v)*100\n",
    "        \n",
    "        #the environment has shown digit v times, the model has predicted it k times\n",
    "        #osservo l'input, qual'è la probabilità che venga classificato correttamente? \n",
    "        print(\"Proportion of actual digit < \"+str(digit)+\" > which is correctly identified =\\t\"+str(r)+\"%\") #sommo sulla colonna\n",
    "        \n",
    "        print(\"\")\n",
    "\n",
    "    print(\"Average observation correctness respect to ouput = \"+str(tot_out*10))\n",
    "    print(\"Average observation correctness respect to input = \"+str(tot_in*10))\n",
    "\n",
    "def print_matrix(matrix, title, x_label, y_label, x_headers, y_headers, size_x=10, size_y=10, color=\"Blues\"):\n",
    "    fig, ax = plt.subplots(figsize=(size_x,size_y))\n",
    "    ax = sns.heatmap(matrix, annot=True, fmt='g', cmap=color, ax=ax)\n",
    "        \n",
    "    ax.set_title(title+'\\n\\n', size=size_x*1.9);\n",
    "    ax.set_xlabel('\\n'+x_label, size=size_x*1.5)\n",
    "    ax.set_ylabel(y_label+' \\n', size=size_x*1.5);\n",
    "\n",
    "\n",
    "    colorbar = ax.collections[0].colorbar\n",
    "    colorbar.set_ticks([0, 2, 4, 6, 8, 10])\n",
    "    colorbar.set_ticklabels(['0%', '2%', '4%', '6%', '8%', '10%'])\n",
    "\n",
    "    ## Ticket labels - List must be in alphabetical order\n",
    "    ax.xaxis.set_ticklabels(x_headers)\n",
    "    ax.yaxis.set_ticklabels(y_headers)\n",
    "\n",
    "    ## Display the visualization of the Confusion Matrix.\n",
    "    plt.show()\n",
    "    \n",
    "def trim(string):\n",
    "    if string.endswith(\".0\"):\n",
    "        return string[0:-2]\n",
    "    return string\n",
    "    \n",
    "def print_confusion_tables(confusion_matrix, dataset_size):\n",
    "    values = []\n",
    "    index = []\n",
    "    columns = []\n",
    "    for i in range(0, 10):\n",
    "        v, h = get_confusion_table_for(confusion_matrix, i, dataset_size)\n",
    "        values.append(v)\n",
    "        index = h\n",
    "        columns.append(i)\n",
    "    \n",
    "    values = np.around(np.array(values), decimals=3)\n",
    "    index = np.array(index)\n",
    "    columns = np.array(columns)\n",
    "\n",
    "    df = pd.DataFrame( values , index=columns, columns=index, dtype=str).T\n",
    "    df.columns.name = \"Digit\"\n",
    "    df = df.applymap(trim)\n",
    "    return df "
   ]
  },
  {
   "cell_type": "markdown",
   "id": "665744eb",
   "metadata": {},
   "source": [
    "### SHOW RESULT"
   ]
  },
  {
   "cell_type": "code",
   "execution_count": null,
   "id": "644a8eed",
   "metadata": {},
   "outputs": [],
   "source": [
    "should_create_matrix = False"
   ]
  },
  {
   "cell_type": "code",
   "execution_count": null,
   "id": "bba22fb2",
   "metadata": {},
   "outputs": [],
   "source": [
    "if should_create_matrix:\n",
    "    confusionmatrix_test = get_confusion_mat(predict, model, testing, \"test\")\n",
    "    %store confusionmatrix_test\n",
    "    \n",
    "    confusionmatrix_train = get_confusion_mat(predict, model, dataset, \"train\")\n",
    "    %store confusionmatrix_train\n",
    "else:\n",
    "    %store -r confusionmatrix_train\n",
    "    %store -r confusionmatrix_test \n",
    "    \n",
    "acc_train = get_accuracy(normalize_matrix( confusionmatrix_train, training_dataset_size))\n",
    "acc_test = get_accuracy(normalize_matrix( confusionmatrix_test, testing_dataset_size))"
   ]
  },
  {
   "cell_type": "markdown",
   "id": "fe79967e",
   "metadata": {},
   "source": [
    "#### Confusion Table"
   ]
  },
  {
   "cell_type": "code",
   "execution_count": null,
   "id": "d95039c1",
   "metadata": {},
   "outputs": [],
   "source": [
    "print_confusion_tables(confusionmatrix_test, testing_dataset_size)"
   ]
  },
  {
   "cell_type": "markdown",
   "id": "a757c5ea",
   "metadata": {},
   "source": [
    "#### Confusion Matrix"
   ]
  },
  {
   "cell_type": "code",
   "execution_count": null,
   "id": "2b9ffed5",
   "metadata": {
    "scrolled": false
   },
   "outputs": [],
   "source": [
    "print_matrix(\n",
    "    np.around(normalize_matrix( confusionmatrix_train, training_dataset_size), decimals=3),\n",
    "    'CapsNet AFFNIST (10 epochs) Confusion Matrix on Training Set ('+str(int(training_dataset_size/1000))+'k images)',\n",
    "    'Actual Digit',\n",
    "    'Predicted Digit',\n",
    "    headers,\n",
    "    headers)"
   ]
  },
  {
   "cell_type": "code",
   "execution_count": null,
   "id": "31470912",
   "metadata": {
    "scrolled": false
   },
   "outputs": [],
   "source": [
    "print_matrix(\n",
    "    np.around(normalize_matrix( confusionmatrix_test, testing_dataset_size), decimals=3),\n",
    "    'CapsNet AFFNIST (10 epochs) Confusion Matrix on Testing Set ('+str(int(testing_dataset_size/1000))+'k images)',\n",
    "    'Actual Digit',\n",
    "    'Predicted Digit',\n",
    "    headers,\n",
    "    headers)"
   ]
  },
  {
   "cell_type": "markdown",
   "id": "7cd4840b",
   "metadata": {},
   "source": [
    "#### Accuracy"
   ]
  },
  {
   "cell_type": "code",
   "execution_count": null,
   "id": "ec9d22ae",
   "metadata": {},
   "outputs": [],
   "source": [
    "d = {\n",
    "    \"Accuracy\" : [np.around(acc_train, decimals=3), np.around(acc_test, decimals=3)],\n",
    "    \"# Images\" : [training_dataset_size, testing_dataset_size],\n",
    "    \"Epochs\" : [10, 10]\n",
    "}\n",
    "\n",
    "pd.DataFrame(d, index=[\"Train\", \"Test\"])"
   ]
  },
  {
   "cell_type": "markdown",
   "id": "c32e0bda",
   "metadata": {},
   "source": [
    "### CHECK ERRORS"
   ]
  },
  {
   "cell_type": "code",
   "execution_count": 4,
   "id": "ca97b14a",
   "metadata": {},
   "outputs": [],
   "source": [
    "def show_prediction(img):\n",
    "    x = X_test[:img+1]\n",
    "    y = y_test[:img+1]\n",
    "    \n",
    "    image = x[img]\n",
    "    label = y[img]\n",
    "    rx = tf.reshape(image, [1, 40, 40, 1])\n",
    "    ry = tf.reshape(label, [1,] )\n",
    "    p = model.predict(rx)[0]\n",
    "    plt.figure()\n",
    "    plt.xlabel(\"value: \"+str(ry.numpy()[0])+\" - prediction: \"+str(p)) #label\n",
    "    plt.imshow(rx[0])\n",
    "    \n",
    "def get_error_index(start, stop):\n",
    "    error = list()\n",
    "    for i in range (start, stop):\n",
    "        x = X_test[:i+1]\n",
    "        y = y_test[:i+1]\n",
    "        rx = tf.reshape(x[i], [1, 40, 40, 1])\n",
    "        p = predict(model, rx)[0]\n",
    "        if p!=y[i]:\n",
    "            error.append(i)\n",
    "\n",
    "    return error\n",
    "\n",
    "def show_grid(x, dimx, dimy, title, size=20.):\n",
    "    fig = plt.figure(figsize=(size, size))\n",
    "    fig.suptitle(title, fontsize=16)\n",
    "    grid = ImageGrid( fig, 111,nrows_ncols=(dimy, dimx),axes_pad=0.1, )\n",
    "    a = []\n",
    "\n",
    "    for i in range(dimx*dimy):\n",
    "        j = x[:, :, i]\n",
    "        a.append(j)\n",
    "\n",
    "    for ax, im in zip(grid, a):\n",
    "        ax.set_xticklabels([])\n",
    "        ax.set_yticklabels([])\n",
    "        ax.imshow(im, cmap=\"gray\")\n",
    "\n",
    "    fig.subplots_adjust(top=0.97) \n",
    "    plt.show()\n",
    "\n",
    "def show_fixed_network_params():\n",
    "    f = model.layers[0].get_weights()[0] # f.shape: (9, 9, 1, 256)\n",
    "    show_grid(f[:,:,0,:], 16, 16, \"Conv1 256 filters\") # show filters\n",
    "    \n",
    "    f = model.layers[1].get_weights()[0] # f.shape: (9, 9, 256, 256)\n",
    "    show_grid(f[:,:,:,0], 16, 16, \"Primary Capsule Filter 9x9x256 #1 of 32*8\") # first filter 9x9x256\n",
    "    show_grid(f[:,:,:,0], 16, 16, \"Primary Capsule Filter 9x9x256 #2 of 32*8\") # first filter 9x9x256\n",
    "    show_grid(f[:,:,:,0], 16, 16, \"Primary Capsule Filter 9x9x256 #3 of 32*8\") # first filter 9x9x256    \n",
    "    \n",
    "def show_conv1_rfm(x, f, b, img):\n",
    "    rx = np.array(tf.reshape( x[img], [1, 40, 40, 1]))\n",
    "    rx = tf.nn.conv2d(rx,f,strides=[1, 1],padding='VALID')\n",
    "    rx = tf.add(rx, b)\n",
    "    rx = tf.nn.relu(rx).numpy()\n",
    "    show_grid(rx[0], 16, 16, \"Conv1 256 output 32x32x256\")\n",
    "    \n",
    "def show_prim_caps_rfm(x, f, b, img):\n",
    "    rx = np.array(tf.reshape( x[img], [1, 32, 32, 256]))\n",
    "    rx = tf.nn.conv2d(rx,f,strides=[2, 2],padding='VALID')\n",
    "    rx = tf.add(rx, b)\n",
    "    show_grid(rx[0], 8, 32, \"Primary Capsule 12x12x8 output, each row is a channel (32 total)\", 40.)\n",
    "\n",
    "def show_network(img):    \n",
    "    #----------------------------------------------------- INPUT\n",
    "\n",
    "    x = X_test[:img+1]\n",
    "    y = y_test[:img+1]\n",
    "    show_prediction(img) # show prediction\n",
    "\n",
    "    #-------------------------------------------------------- CONV1\n",
    "\n",
    "    # filters\n",
    "    f = model.layers[0].get_weights()[0]\n",
    "    # biases\n",
    "    b = model.layers[0].get_weights()[1]\n",
    "\n",
    "    \n",
    "    show_conv1_rfm(x, f, b, img) # show reconstructed feature maps\n",
    "\n",
    "    #-------------------------------------------------------- OUTPUT\n",
    "\n",
    "    x = model.convolution(x)\n",
    "\n",
    "    #-------------------------------------------------------- PRIMARY CAPSULE\n",
    "\n",
    "    f = model.layers[1].get_weights()[0]\n",
    "    b = model.layers[1].get_weights()[1]\n",
    "    \n",
    "    show_prim_caps_rfm(x, f, b, img) # shows recostructed feature maps\n",
    "\n",
    "    #-------------------------------------------------------- OUTPUT\n",
    "\n",
    "    x = model.primary_capsule(x)"
   ]
  },
  {
   "cell_type": "code",
   "execution_count": 5,
   "id": "061c4de7",
   "metadata": {
    "scrolled": true
   },
   "outputs": [
    {
     "name": "stderr",
     "output_type": "stream",
     "text": [
      "2022-10-20 18:01:48.542981: I tensorflow/core/grappler/optimizers/custom_graph_optimizer_registry.cc:113] Plugin optimizer for device_type GPU is enabled.\n"
     ]
    },
    {
     "data": {
      "image/png": "[encoded data removed]",
      "text/plain": [
       "<Figure size 432x288 with 1 Axes>"
      ]
     },
     "metadata": {
      "needs_background": "light"
     },
     "output_type": "display_data"
    },
    {
     "data": {
      "image/png": "[encoded data removed]",
      "text/plain": [
       "<Figure size 432x288 with 1 Axes>"
      ]
     },
     "metadata": {
      "needs_background": "light"
     },
     "output_type": "display_data"
    },
    {
     "data": {
      "image/png": "[encoded data removed]",
      "text/plain": [
       "<Figure size 432x288 with 1 Axes>"
      ]
     },
     "metadata": {
      "needs_background": "light"
     },
     "output_type": "display_data"
    },
    {
     "data": {
      "image/png": "[encoded data removed]",
      "text/plain": [
       "<Figure size 432x288 with 1 Axes>"
      ]
     },
     "metadata": {
      "needs_background": "light"
     },
     "output_type": "display_data"
    },
    {
     "data": {
      "image/png": "[encoded data removed]",
      "text/plain": [
       "<Figure size 432x288 with 1 Axes>"
      ]
     },
     "metadata": {
      "needs_background": "light"
     },
     "output_type": "display_data"
    },
    {
     "data": {
      "image/png": "[encoded data removed]",
      "text/plain": [
       "<Figure size 432x288 with 1 Axes>"
      ]
     },
     "metadata": {
      "needs_background": "light"
     },
     "output_type": "display_data"
    },
    {
     "data": {
      "image/png": "[encoded data removed]",
      "text/plain": [
       "<Figure size 432x288 with 1 Axes>"
      ]
     },
     "metadata": {
      "needs_background": "light"
     },
     "output_type": "display_data"
    },
    {
     "data": {
      "image/png": "[encoded data removed]",
      "text/plain": [
       "<Figure size 432x288 with 1 Axes>"
      ]
     },
     "metadata": {
      "needs_background": "light"
     },
     "output_type": "display_data"
    },
    {
     "data": {
      "image/png": "[encoded data removed]",
      "text/plain": [
       "<Figure size 432x288 with 1 Axes>"
      ]
     },
     "metadata": {
      "needs_background": "light"
     },
     "output_type": "display_data"
    },
    {
     "data": {
      "image/png": "[encoded data removed]",
      "text/plain": [
       "<Figure size 432x288 with 1 Axes>"
      ]
     },
     "metadata": {
      "needs_background": "light"
     },
     "output_type": "display_data"
    },
    {
     "data": {
      "image/png": "[encoded data removed]",
      "text/plain": [
       "<Figure size 432x288 with 1 Axes>"
      ]
     },
     "metadata": {
      "needs_background": "light"
     },
     "output_type": "display_data"
    },
    {
     "data": {
      "image/png": "[encoded data removed]",
      "text/plain": [
       "<Figure size 432x288 with 1 Axes>"
      ]
     },
     "metadata": {
      "needs_background": "light"
     },
     "output_type": "display_data"
    },
    {
     "data": {
      "image/png": "[encoded data removed]",
      "text/plain": [
       "<Figure size 432x288 with 1 Axes>"
      ]
     },
     "metadata": {
      "needs_background": "light"
     },
     "output_type": "display_data"
    },
    {
     "data": {
      "image/png": "[encoded data removed]",
      "text/plain": [
       "<Figure size 432x288 with 1 Axes>"
      ]
     },
     "metadata": {
      "needs_background": "light"
     },
     "output_type": "display_data"
    },
    {
     "data": {
      "image/png": "[encoded data removed]",
      "text/plain": [
       "<Figure size 432x288 with 1 Axes>"
      ]
     },
     "metadata": {
      "needs_background": "light"
     },
     "output_type": "display_data"
    },
    {
     "data": {
      "image/png": "[encoded data removed]",
      "text/plain": [
       "<Figure size 432x288 with 1 Axes>"
      ]
     },
     "metadata": {
      "needs_background": "light"
     },
     "output_type": "display_data"
    },
    {
     "data": {
      "image/png": "[encoded data removed]",
      "text/plain": [
       "<Figure size 432x288 with 1 Axes>"
      ]
     },
     "metadata": {
      "needs_background": "light"
     },
     "output_type": "display_data"
    },
    {
     "data": {
      "image/png": "[encoded data removed]",
      "text/plain": [
       "<Figure size 432x288 with 1 Axes>"
      ]
     },
     "metadata": {
      "needs_background": "light"
     },
     "output_type": "display_data"
    }
   ],
   "source": [
    "errors = [45, 78, 98, 139, 151, 167, 175, 184, 211, 217, 222, 247, 259, 266, 300, 318, 341, 359]\n",
    "\n",
    "for i in errors:\n",
    "    show_prediction(i)\n"
   ]
  },
  {
   "cell_type": "code",
   "execution_count": null,
   "id": "7ba063e3",
   "metadata": {
    "scrolled": false
   },
   "outputs": [],
   "source": [
    "show_network(45)"
   ]
  },
  {
   "cell_type": "code",
   "execution_count": null,
   "id": "4ba7c1c4",
   "metadata": {
    "scrolled": false
   },
   "outputs": [],
   "source": [
    "show_fixed_network_params()"
   ]
  },
  {
   "cell_type": "code",
   "execution_count": null,
   "id": "724ce877",
   "metadata": {},
   "outputs": [],
   "source": []
  }
 ],
 "metadata": {
  "kernelspec": {
   "display_name": "Python 3 (ipykernel)",
   "language": "python",
   "name": "python3"
  },
  "language_info": {
   "codemirror_mode": {
    "name": "ipython",
    "version": 3
   },
   "file_extension": ".py",
   "mimetype": "text/x-python",
   "name": "python",
   "nbconvert_exporter": "python",
   "pygments_lexer": "ipython3",
   "version": "3.9.12"
  }
 },
 "nbformat": 4,
 "nbformat_minor": 5
}
