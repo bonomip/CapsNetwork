{
 "cells": [
  {
   "cell_type": "code",
   "execution_count": 1,
   "id": "17845d88",
   "metadata": {},
   "outputs": [],
   "source": [
    "# storia più su nns convolutive, capsulenetwork, evoluzione, problemi di classificazione\n",
    "\n",
    "\n",
    "\n",
    "\n",
    "\n",
    "# usare affnist\n",
    "\n",
    "\n",
    "\n",
    "# prova minst su affnist e verificare risultati con paper\n",
    "# testare su dataset normale + rotraslato*2\n",
    "# clustering per training\n",
    "# risultato si su db normale sia rototraslato\n",
    "#\n",
    "# + provare no shearing\n",
    "\n",
    "\n",
    "# matrice di confusione normalizzata sia su righe che su colonne (tot 3 matrici)"
   ]
  },
  {
   "cell_type": "markdown",
   "id": "73928d00",
   "metadata": {},
   "source": [
    "### Import statements"
   ]
  },
  {
   "cell_type": "code",
   "execution_count": 2,
   "id": "56f3da57",
   "metadata": {},
   "outputs": [],
   "source": [
    "%%capture\n",
    "\n",
    "import numpy as np\n",
    "import tensorflow as tf\n",
    "from datetime import datetime\n",
    "\n",
    "# for affine transformation functions\n",
    "import torchvision.transforms as transforms\n",
    "import torchvision.transforms.functional as fn\n",
    "import torch\n",
    "import math\n",
    "\n",
    "# for loading affNIST_original\n",
    "import scipy.io as spio\n",
    "\n",
    "#for training progress bar\n",
    "from tqdm import tqdm\n",
    "\n",
    "#for image display\n",
    "from matplotlib import pyplot as plt\n",
    "from mpl_toolkits.axes_grid1 import ImageGrid\n",
    "\n",
    "# for performances functions\n",
    "from numpy import sqrt \n",
    "import seaborn as sns\n",
    "import pandas as pd\n",
    "\n",
    "#mandatory for correct load and save of files\n",
    "%cd /Users/paolobonomi/Work/Python/CapsNetwork\n",
    "\n",
    "# for project class\n",
    "import sys\n",
    "sys.path.append(\"/Users/paolobonomi/Work/Python/CapsNetwork/src\")\n",
    "\n",
    "from setup import Setup # set up model and dataset\n",
    "import perfu # performance function such as confusion matrix etc...\n",
    "import printer"
   ]
  },
  {
   "cell_type": "markdown",
   "id": "8c810354",
   "metadata": {},
   "source": [
    "### Retrieve model and dataset"
   ]
  },
  {
   "cell_type": "code",
   "execution_count": 3,
   "id": "4eea49bf",
   "metadata": {},
   "outputs": [
    {
     "name": "stdout",
     "output_type": "stream",
     "text": [
      "Found GPU at: /device:GPU:0\n",
      "Load Custom affNIST train dataset _v1... \n",
      "Metal device set to: Apple M1\n",
      "Load Custom affNIST test dataset _v1... \n",
      "Processing dataset... \n"
     ]
    },
    {
     "name": "stderr",
     "output_type": "stream",
     "text": [
      "2022-10-20 19:23:26.039305: I tensorflow/core/common_runtime/pluggable_device/pluggable_device_factory.cc:305] Could not identify NUMA node of platform GPU ID 0, defaulting to 0. Your kernel may not have been built with NUMA support.\n",
      "2022-10-20 19:23:26.039384: I tensorflow/core/common_runtime/pluggable_device/pluggable_device_factory.cc:271] Created TensorFlow device (/device:GPU:0 with 0 MB memory) -> physical PluggableDevice (device: 0, name: METAL, pci bus id: <undefined>)\n",
      "2022-10-20 19:23:26.152921: I tensorflow/core/common_runtime/pluggable_device/pluggable_device_factory.cc:305] Could not identify NUMA node of platform GPU ID 0, defaulting to 0. Your kernel may not have been built with NUMA support.\n",
      "2022-10-20 19:23:26.152944: I tensorflow/core/common_runtime/pluggable_device/pluggable_device_factory.cc:271] Created TensorFlow device (/job:localhost/replica:0/task:0/device:GPU:0 with 0 MB memory) -> physical PluggableDevice (device: 0, name: METAL, pci bus id: <undefined>)\n"
     ]
    },
    {
     "name": "stdout",
     "output_type": "stream",
     "text": [
      "Creating model... \n",
      "Loading model... \n"
     ]
    },
    {
     "name": "stderr",
     "output_type": "stream",
     "text": [
      "2022-10-20 19:23:26.782619: W tensorflow/core/platform/profile_utils/cpu_utils.cc:128] Failed to get CPU frequency: 0 Hz\n",
      "2022-10-20 19:23:26.782686: I tensorflow/core/grappler/optimizers/custom_graph_optimizer_registry.cc:113] Plugin optimizer for device_type GPU is enabled.\n",
      "2022-10-20 19:23:30.440214: I tensorflow/core/grappler/optimizers/custom_graph_optimizer_registry.cc:113] Plugin optimizer for device_type GPU is enabled.\n"
     ]
    }
   ],
   "source": [
    "setup = Setup()\n",
    "model = setup.get_model()\n",
    "X_train, y_train = setup.get_train_images()\n",
    "X_test, y_test = setup.get_test_images()\n",
    "dataset = setup.get_dataset()\n",
    "training = setup.get_testing()"
   ]
  },
  {
   "cell_type": "markdown",
   "id": "665744eb",
   "metadata": {},
   "source": [
    "### Perfomance data"
   ]
  },
  {
   "cell_type": "code",
   "execution_count": 4,
   "id": "644a8eed",
   "metadata": {},
   "outputs": [],
   "source": [
    "should_create_matrix = False"
   ]
  },
  {
   "cell_type": "code",
   "execution_count": 5,
   "id": "bba22fb2",
   "metadata": {},
   "outputs": [],
   "source": [
    "if should_create_matrix:\n",
    "    confusionmatrix_test = perfu.get_confusion_mat(model.predict, testing, \"test\")\n",
    "    %store confusionmatrix_test\n",
    "    \n",
    "    confusionmatrix_train = perfu.get_confusion_mat(model.predict, dataset, \"train\")\n",
    "    %store confusionmatrix_train\n",
    "else:\n",
    "    %store -r confusionmatrix_train\n",
    "    %store -r confusionmatrix_test \n",
    "    \n",
    "acc_train = perfu.get_accuracy(perfu.normalize_matrix( confusionmatrix_train, X_train.shape[0]))\n",
    "acc_test = perfu.get_accuracy(perfu.normalize_matrix( confusionmatrix_test, X_test.shape[0]))"
   ]
  },
  {
   "cell_type": "markdown",
   "id": "fe79967e",
   "metadata": {},
   "source": [
    "#### Testing Confusion Table"
   ]
  },
  {
   "cell_type": "code",
   "execution_count": 6,
   "id": "d95039c1",
   "metadata": {},
   "outputs": [
    {
     "data": {
      "text/html": [
       "<div>\n",
       "<style scoped>\n",
       "    .dataframe tbody tr th:only-of-type {\n",
       "        vertical-align: middle;\n",
       "    }\n",
       "\n",
       "    .dataframe tbody tr th {\n",
       "        vertical-align: top;\n",
       "    }\n",
       "\n",
       "    .dataframe thead th {\n",
       "        text-align: right;\n",
       "    }\n",
       "</style>\n",
       "<table border=\"1\" class=\"dataframe\">\n",
       "  <thead>\n",
       "    <tr style=\"text-align: right;\">\n",
       "      <th>Digit</th>\n",
       "      <th>0</th>\n",
       "      <th>1</th>\n",
       "      <th>2</th>\n",
       "      <th>3</th>\n",
       "      <th>4</th>\n",
       "      <th>5</th>\n",
       "      <th>6</th>\n",
       "      <th>7</th>\n",
       "      <th>8</th>\n",
       "      <th>9</th>\n",
       "    </tr>\n",
       "  </thead>\n",
       "  <tbody>\n",
       "    <tr>\n",
       "      <th>Condition Positive</th>\n",
       "      <td>1038</td>\n",
       "      <td>1149</td>\n",
       "      <td>1017</td>\n",
       "      <td>1066</td>\n",
       "      <td>973</td>\n",
       "      <td>888</td>\n",
       "      <td>914</td>\n",
       "      <td>1058</td>\n",
       "      <td>900</td>\n",
       "      <td>997</td>\n",
       "    </tr>\n",
       "    <tr>\n",
       "      <th>Condition Negative</th>\n",
       "      <td>8962</td>\n",
       "      <td>8851</td>\n",
       "      <td>8983</td>\n",
       "      <td>8934</td>\n",
       "      <td>9027</td>\n",
       "      <td>9112</td>\n",
       "      <td>9086</td>\n",
       "      <td>8942</td>\n",
       "      <td>9100</td>\n",
       "      <td>9003</td>\n",
       "    </tr>\n",
       "    <tr>\n",
       "      <th>True Positive (TN)</th>\n",
       "      <td>976</td>\n",
       "      <td>1123</td>\n",
       "      <td>982</td>\n",
       "      <td>997</td>\n",
       "      <td>941</td>\n",
       "      <td>840</td>\n",
       "      <td>901</td>\n",
       "      <td>998</td>\n",
       "      <td>883</td>\n",
       "      <td>942</td>\n",
       "    </tr>\n",
       "    <tr>\n",
       "      <th>False Negative (FN)</th>\n",
       "      <td>62</td>\n",
       "      <td>26</td>\n",
       "      <td>35</td>\n",
       "      <td>69</td>\n",
       "      <td>32</td>\n",
       "      <td>48</td>\n",
       "      <td>13</td>\n",
       "      <td>60</td>\n",
       "      <td>17</td>\n",
       "      <td>55</td>\n",
       "    </tr>\n",
       "    <tr>\n",
       "      <th>False Positive (FP)</th>\n",
       "      <td>4</td>\n",
       "      <td>12</td>\n",
       "      <td>50</td>\n",
       "      <td>13</td>\n",
       "      <td>41</td>\n",
       "      <td>52</td>\n",
       "      <td>57</td>\n",
       "      <td>30</td>\n",
       "      <td>91</td>\n",
       "      <td>67</td>\n",
       "    </tr>\n",
       "    <tr>\n",
       "      <th>True Negative (TN)</th>\n",
       "      <td>8958</td>\n",
       "      <td>8839</td>\n",
       "      <td>8933</td>\n",
       "      <td>8921</td>\n",
       "      <td>8986</td>\n",
       "      <td>9060</td>\n",
       "      <td>9029</td>\n",
       "      <td>8912</td>\n",
       "      <td>9009</td>\n",
       "      <td>8936</td>\n",
       "    </tr>\n",
       "    <tr>\n",
       "      <th>Sensitivity (TPR)</th>\n",
       "      <td>0.94</td>\n",
       "      <td>0.977</td>\n",
       "      <td>0.966</td>\n",
       "      <td>0.935</td>\n",
       "      <td>0.967</td>\n",
       "      <td>0.946</td>\n",
       "      <td>0.986</td>\n",
       "      <td>0.943</td>\n",
       "      <td>0.981</td>\n",
       "      <td>0.945</td>\n",
       "    </tr>\n",
       "    <tr>\n",
       "      <th>Specificity (TNR)</th>\n",
       "      <td>1</td>\n",
       "      <td>0.999</td>\n",
       "      <td>0.994</td>\n",
       "      <td>0.999</td>\n",
       "      <td>0.995</td>\n",
       "      <td>0.994</td>\n",
       "      <td>0.994</td>\n",
       "      <td>0.997</td>\n",
       "      <td>0.99</td>\n",
       "      <td>0.993</td>\n",
       "    </tr>\n",
       "    <tr>\n",
       "      <th>Positive Predictive Value (PPV)</th>\n",
       "      <td>0.996</td>\n",
       "      <td>0.989</td>\n",
       "      <td>0.952</td>\n",
       "      <td>0.987</td>\n",
       "      <td>0.958</td>\n",
       "      <td>0.942</td>\n",
       "      <td>0.941</td>\n",
       "      <td>0.971</td>\n",
       "      <td>0.907</td>\n",
       "      <td>0.934</td>\n",
       "    </tr>\n",
       "    <tr>\n",
       "      <th>Negative Predictive Value (NPV)</th>\n",
       "      <td>0.993</td>\n",
       "      <td>0.997</td>\n",
       "      <td>0.996</td>\n",
       "      <td>0.992</td>\n",
       "      <td>0.996</td>\n",
       "      <td>0.995</td>\n",
       "      <td>0.999</td>\n",
       "      <td>0.993</td>\n",
       "      <td>0.998</td>\n",
       "      <td>0.994</td>\n",
       "    </tr>\n",
       "    <tr>\n",
       "      <th>False Negative Rate (FNR)</th>\n",
       "      <td>0.06</td>\n",
       "      <td>0.023</td>\n",
       "      <td>0.034</td>\n",
       "      <td>0.065</td>\n",
       "      <td>0.033</td>\n",
       "      <td>0.054</td>\n",
       "      <td>0.014</td>\n",
       "      <td>0.057</td>\n",
       "      <td>0.019</td>\n",
       "      <td>0.055</td>\n",
       "    </tr>\n",
       "    <tr>\n",
       "      <th>False Positive Rate (FPR)</th>\n",
       "      <td>0</td>\n",
       "      <td>0.001</td>\n",
       "      <td>0.006</td>\n",
       "      <td>0.001</td>\n",
       "      <td>0.005</td>\n",
       "      <td>0.006</td>\n",
       "      <td>0.006</td>\n",
       "      <td>0.003</td>\n",
       "      <td>0.01</td>\n",
       "      <td>0.007</td>\n",
       "    </tr>\n",
       "    <tr>\n",
       "      <th>False Discovery Rate (FDR)</th>\n",
       "      <td>0.004</td>\n",
       "      <td>0.011</td>\n",
       "      <td>0.048</td>\n",
       "      <td>0.013</td>\n",
       "      <td>0.042</td>\n",
       "      <td>0.058</td>\n",
       "      <td>0.059</td>\n",
       "      <td>0.029</td>\n",
       "      <td>0.093</td>\n",
       "      <td>0.066</td>\n",
       "    </tr>\n",
       "    <tr>\n",
       "      <th>False Omission Rate (FOR)</th>\n",
       "      <td>0.007</td>\n",
       "      <td>0.003</td>\n",
       "      <td>0.004</td>\n",
       "      <td>0.008</td>\n",
       "      <td>0.004</td>\n",
       "      <td>0.005</td>\n",
       "      <td>0.001</td>\n",
       "      <td>0.007</td>\n",
       "      <td>0.002</td>\n",
       "      <td>0.006</td>\n",
       "    </tr>\n",
       "    <tr>\n",
       "      <th>Positive Likelihood Ratio (LR+)</th>\n",
       "      <td>2106</td>\n",
       "      <td>720</td>\n",
       "      <td>173</td>\n",
       "      <td>642</td>\n",
       "      <td>212</td>\n",
       "      <td>165</td>\n",
       "      <td>157</td>\n",
       "      <td>281</td>\n",
       "      <td>98</td>\n",
       "      <td>126</td>\n",
       "    </tr>\n",
       "    <tr>\n",
       "      <th>Negative Likelihood Ratio (LR-)</th>\n",
       "      <td>0.06</td>\n",
       "      <td>0.023</td>\n",
       "      <td>0.035</td>\n",
       "      <td>0.065</td>\n",
       "      <td>0.033</td>\n",
       "      <td>0.054</td>\n",
       "      <td>0.014</td>\n",
       "      <td>0.057</td>\n",
       "      <td>0.019</td>\n",
       "      <td>0.056</td>\n",
       "    </tr>\n",
       "    <tr>\n",
       "      <th>Prevalence Threshold (PT)</th>\n",
       "      <td>1.031</td>\n",
       "      <td>1.012</td>\n",
       "      <td>1.018</td>\n",
       "      <td>1.034</td>\n",
       "      <td>1.017</td>\n",
       "      <td>1.028</td>\n",
       "      <td>1.007</td>\n",
       "      <td>1.03</td>\n",
       "      <td>1.01</td>\n",
       "      <td>1.029</td>\n",
       "    </tr>\n",
       "    <tr>\n",
       "      <th>Threat Score</th>\n",
       "      <td>0.937</td>\n",
       "      <td>0.967</td>\n",
       "      <td>0.92</td>\n",
       "      <td>0.924</td>\n",
       "      <td>0.928</td>\n",
       "      <td>0.894</td>\n",
       "      <td>0.928</td>\n",
       "      <td>0.917</td>\n",
       "      <td>0.891</td>\n",
       "      <td>0.885</td>\n",
       "    </tr>\n",
       "    <tr>\n",
       "      <th>Prevalence</th>\n",
       "      <td>0.104</td>\n",
       "      <td>0.115</td>\n",
       "      <td>0.102</td>\n",
       "      <td>0.107</td>\n",
       "      <td>0.097</td>\n",
       "      <td>0.089</td>\n",
       "      <td>0.091</td>\n",
       "      <td>0.106</td>\n",
       "      <td>0.09</td>\n",
       "      <td>0.1</td>\n",
       "    </tr>\n",
       "    <tr>\n",
       "      <th>Accuracy (ACC)</th>\n",
       "      <td>0.993</td>\n",
       "      <td>0.996</td>\n",
       "      <td>0.992</td>\n",
       "      <td>0.992</td>\n",
       "      <td>0.993</td>\n",
       "      <td>0.99</td>\n",
       "      <td>0.993</td>\n",
       "      <td>0.991</td>\n",
       "      <td>0.989</td>\n",
       "      <td>0.988</td>\n",
       "    </tr>\n",
       "    <tr>\n",
       "      <th>Balanced Accuracy</th>\n",
       "      <td>0.47</td>\n",
       "      <td>0.488</td>\n",
       "      <td>0.48</td>\n",
       "      <td>0.467</td>\n",
       "      <td>0.481</td>\n",
       "      <td>0.47</td>\n",
       "      <td>0.49</td>\n",
       "      <td>0.47</td>\n",
       "      <td>0.486</td>\n",
       "      <td>0.469</td>\n",
       "    </tr>\n",
       "    <tr>\n",
       "      <th>F1 Score</th>\n",
       "      <td>0.967</td>\n",
       "      <td>0.983</td>\n",
       "      <td>0.959</td>\n",
       "      <td>0.961</td>\n",
       "      <td>0.963</td>\n",
       "      <td>0.944</td>\n",
       "      <td>0.963</td>\n",
       "      <td>0.957</td>\n",
       "      <td>0.942</td>\n",
       "      <td>0.939</td>\n",
       "    </tr>\n",
       "    <tr>\n",
       "      <th>Matthews Correlation Coefficient (MCC)</th>\n",
       "      <td>0.126</td>\n",
       "      <td>0.195</td>\n",
       "      <td>0.164</td>\n",
       "      <td>0.119</td>\n",
       "      <td>0.172</td>\n",
       "      <td>0.139</td>\n",
       "      <td>0.268</td>\n",
       "      <td>0.127</td>\n",
       "      <td>0.23</td>\n",
       "      <td>0.129</td>\n",
       "    </tr>\n",
       "    <tr>\n",
       "      <th>Fowlkes–Mallows Index (FM)</th>\n",
       "      <td>0.968</td>\n",
       "      <td>0.983</td>\n",
       "      <td>0.959</td>\n",
       "      <td>0.961</td>\n",
       "      <td>0.963</td>\n",
       "      <td>0.944</td>\n",
       "      <td>0.963</td>\n",
       "      <td>0.957</td>\n",
       "      <td>0.943</td>\n",
       "      <td>0.939</td>\n",
       "    </tr>\n",
       "    <tr>\n",
       "      <th>Bookmaker Informedness (BM)</th>\n",
       "      <td>0.94</td>\n",
       "      <td>0.976</td>\n",
       "      <td>0.96</td>\n",
       "      <td>0.934</td>\n",
       "      <td>0.963</td>\n",
       "      <td>0.94</td>\n",
       "      <td>0.98</td>\n",
       "      <td>0.94</td>\n",
       "      <td>0.971</td>\n",
       "      <td>0.937</td>\n",
       "    </tr>\n",
       "    <tr>\n",
       "      <th>Markedness (MK)</th>\n",
       "      <td>0.989</td>\n",
       "      <td>0.986</td>\n",
       "      <td>0.948</td>\n",
       "      <td>0.979</td>\n",
       "      <td>0.955</td>\n",
       "      <td>0.936</td>\n",
       "      <td>0.939</td>\n",
       "      <td>0.964</td>\n",
       "      <td>0.905</td>\n",
       "      <td>0.927</td>\n",
       "    </tr>\n",
       "    <tr>\n",
       "      <th>Diagnostic odds ratio (DOR)</th>\n",
       "      <td>35254</td>\n",
       "      <td>31814</td>\n",
       "      <td>5012</td>\n",
       "      <td>9915</td>\n",
       "      <td>6444</td>\n",
       "      <td>3049</td>\n",
       "      <td>10978</td>\n",
       "      <td>4941</td>\n",
       "      <td>5142</td>\n",
       "      <td>2284</td>\n",
       "    </tr>\n",
       "  </tbody>\n",
       "</table>\n",
       "</div>"
      ],
      "text/plain": [
       "Digit                                       0      1      2      3      4  \\\n",
       "Condition Positive                       1038   1149   1017   1066    973   \n",
       "Condition Negative                       8962   8851   8983   8934   9027   \n",
       "True Positive (TN)                        976   1123    982    997    941   \n",
       "False Negative (FN)                        62     26     35     69     32   \n",
       "False Positive (FP)                         4     12     50     13     41   \n",
       "True Negative (TN)                       8958   8839   8933   8921   8986   \n",
       "Sensitivity (TPR)                        0.94  0.977  0.966  0.935  0.967   \n",
       "Specificity (TNR)                           1  0.999  0.994  0.999  0.995   \n",
       "Positive Predictive Value (PPV)         0.996  0.989  0.952  0.987  0.958   \n",
       "Negative Predictive Value (NPV)         0.993  0.997  0.996  0.992  0.996   \n",
       "False Negative Rate (FNR)                0.06  0.023  0.034  0.065  0.033   \n",
       "False Positive Rate (FPR)                   0  0.001  0.006  0.001  0.005   \n",
       "False Discovery Rate (FDR)              0.004  0.011  0.048  0.013  0.042   \n",
       "False Omission Rate (FOR)               0.007  0.003  0.004  0.008  0.004   \n",
       "Positive Likelihood Ratio (LR+)          2106    720    173    642    212   \n",
       "Negative Likelihood Ratio (LR-)          0.06  0.023  0.035  0.065  0.033   \n",
       "Prevalence Threshold (PT)               1.031  1.012  1.018  1.034  1.017   \n",
       "Threat Score                            0.937  0.967   0.92  0.924  0.928   \n",
       "Prevalence                              0.104  0.115  0.102  0.107  0.097   \n",
       "Accuracy (ACC)                          0.993  0.996  0.992  0.992  0.993   \n",
       "Balanced Accuracy                        0.47  0.488   0.48  0.467  0.481   \n",
       "F1 Score                                0.967  0.983  0.959  0.961  0.963   \n",
       "Matthews Correlation Coefficient (MCC)  0.126  0.195  0.164  0.119  0.172   \n",
       "Fowlkes–Mallows Index (FM)              0.968  0.983  0.959  0.961  0.963   \n",
       "Bookmaker Informedness (BM)              0.94  0.976   0.96  0.934  0.963   \n",
       "Markedness (MK)                         0.989  0.986  0.948  0.979  0.955   \n",
       "Diagnostic odds ratio (DOR)             35254  31814   5012   9915   6444   \n",
       "\n",
       "Digit                                       5      6      7      8      9  \n",
       "Condition Positive                        888    914   1058    900    997  \n",
       "Condition Negative                       9112   9086   8942   9100   9003  \n",
       "True Positive (TN)                        840    901    998    883    942  \n",
       "False Negative (FN)                        48     13     60     17     55  \n",
       "False Positive (FP)                        52     57     30     91     67  \n",
       "True Negative (TN)                       9060   9029   8912   9009   8936  \n",
       "Sensitivity (TPR)                       0.946  0.986  0.943  0.981  0.945  \n",
       "Specificity (TNR)                       0.994  0.994  0.997   0.99  0.993  \n",
       "Positive Predictive Value (PPV)         0.942  0.941  0.971  0.907  0.934  \n",
       "Negative Predictive Value (NPV)         0.995  0.999  0.993  0.998  0.994  \n",
       "False Negative Rate (FNR)               0.054  0.014  0.057  0.019  0.055  \n",
       "False Positive Rate (FPR)               0.006  0.006  0.003   0.01  0.007  \n",
       "False Discovery Rate (FDR)              0.058  0.059  0.029  0.093  0.066  \n",
       "False Omission Rate (FOR)               0.005  0.001  0.007  0.002  0.006  \n",
       "Positive Likelihood Ratio (LR+)           165    157    281     98    126  \n",
       "Negative Likelihood Ratio (LR-)         0.054  0.014  0.057  0.019  0.056  \n",
       "Prevalence Threshold (PT)               1.028  1.007   1.03   1.01  1.029  \n",
       "Threat Score                            0.894  0.928  0.917  0.891  0.885  \n",
       "Prevalence                              0.089  0.091  0.106   0.09    0.1  \n",
       "Accuracy (ACC)                           0.99  0.993  0.991  0.989  0.988  \n",
       "Balanced Accuracy                        0.47   0.49   0.47  0.486  0.469  \n",
       "F1 Score                                0.944  0.963  0.957  0.942  0.939  \n",
       "Matthews Correlation Coefficient (MCC)  0.139  0.268  0.127   0.23  0.129  \n",
       "Fowlkes–Mallows Index (FM)              0.944  0.963  0.957  0.943  0.939  \n",
       "Bookmaker Informedness (BM)              0.94   0.98   0.94  0.971  0.937  \n",
       "Markedness (MK)                         0.936  0.939  0.964  0.905  0.927  \n",
       "Diagnostic odds ratio (DOR)              3049  10978   4941   5142   2284  "
      ]
     },
     "execution_count": 6,
     "metadata": {},
     "output_type": "execute_result"
    }
   ],
   "source": [
    "values, columns, index = perfu.get_confusion_table(confusionmatrix_test, X_test.shape[0])\n",
    "printer.print_confusion_tables(values, columns, index)"
   ]
  },
  {
   "cell_type": "markdown",
   "id": "a757c5ea",
   "metadata": {},
   "source": [
    "#### Confusion Matrix"
   ]
  },
  {
   "cell_type": "code",
   "execution_count": 7,
   "id": "2b9ffed5",
   "metadata": {
    "scrolled": false
   },
   "outputs": [
    {
     "data": {
      "image/png": "[encoded data removed]",
      "text/plain": [
       "<Figure size 720x720 with 2 Axes>"
      ]
     },
     "metadata": {
      "needs_background": "light"
     },
     "output_type": "display_data"
    }
   ],
   "source": [
    "printer.print_matrix(\n",
    "    np.around(perfu.normalize_matrix( confusionmatrix_train, X_train.shape[0]), decimals=3),\n",
    "    'CapsNet AFFNIST (10 epochs) Confusion Matrix on Training Set ('+str(int(X_train.shape[0]/1000))+'k images)',\n",
    "    'Actual Digit',\n",
    "    'Predicted Digit',\n",
    "    perfu.headers,\n",
    "    perfu.headers)"
   ]
  },
  {
   "cell_type": "code",
   "execution_count": 8,
   "id": "31470912",
   "metadata": {
    "scrolled": false
   },
   "outputs": [
    {
     "data": {
      "image/png": "[encoded data removed]",
      "text/plain": [
       "<Figure size 720x720 with 2 Axes>"
      ]
     },
     "metadata": {
      "needs_background": "light"
     },
     "output_type": "display_data"
    }
   ],
   "source": [
    "printer.print_matrix(\n",
    "    np.around(perfu.normalize_matrix( confusionmatrix_test, X_test.shape[0]), decimals=3),\n",
    "    'CapsNet AFFNIST (10 epochs) Confusion Matrix on Testing Set ('+str(int(X_test.shape[0]/1000))+'k images)',\n",
    "    'Actual Digit',\n",
    "    'Predicted Digit',\n",
    "    perfu.headers,\n",
    "    perfu.headers)"
   ]
  },
  {
   "cell_type": "markdown",
   "id": "7cd4840b",
   "metadata": {},
   "source": [
    "#### Accuracy"
   ]
  },
  {
   "cell_type": "code",
   "execution_count": 9,
   "id": "ec9d22ae",
   "metadata": {},
   "outputs": [
    {
     "data": {
      "text/html": [
       "<div>\n",
       "<style scoped>\n",
       "    .dataframe tbody tr th:only-of-type {\n",
       "        vertical-align: middle;\n",
       "    }\n",
       "\n",
       "    .dataframe tbody tr th {\n",
       "        vertical-align: top;\n",
       "    }\n",
       "\n",
       "    .dataframe thead th {\n",
       "        text-align: right;\n",
       "    }\n",
       "</style>\n",
       "<table border=\"1\" class=\"dataframe\">\n",
       "  <thead>\n",
       "    <tr style=\"text-align: right;\">\n",
       "      <th></th>\n",
       "      <th>Accuracy</th>\n",
       "      <th># Images</th>\n",
       "      <th>Epochs</th>\n",
       "    </tr>\n",
       "  </thead>\n",
       "  <tbody>\n",
       "    <tr>\n",
       "      <th>Train</th>\n",
       "      <td>99.758</td>\n",
       "      <td>60000</td>\n",
       "      <td>10</td>\n",
       "    </tr>\n",
       "    <tr>\n",
       "      <th>Test</th>\n",
       "      <td>95.830</td>\n",
       "      <td>10000</td>\n",
       "      <td>10</td>\n",
       "    </tr>\n",
       "  </tbody>\n",
       "</table>\n",
       "</div>"
      ],
      "text/plain": [
       "       Accuracy  # Images  Epochs\n",
       "Train    99.758     60000      10\n",
       "Test     95.830     10000      10"
      ]
     },
     "execution_count": 9,
     "metadata": {},
     "output_type": "execute_result"
    }
   ],
   "source": [
    "printer.print_accuracy(acc_train, acc_test, X_train.shape[0], X_test.shape[0])"
   ]
  },
  {
   "cell_type": "code",
   "execution_count": null,
   "id": "ca97b14a",
   "metadata": {},
   "outputs": [],
   "source": []
  },
  {
   "cell_type": "code",
   "execution_count": 10,
   "id": "3f9415d5",
   "metadata": {},
   "outputs": [
    {
     "name": "stderr",
     "output_type": "stream",
     "text": [
      "2022-10-20 19:23:38.442095: I tensorflow/core/grappler/optimizers/custom_graph_optimizer_registry.cc:113] Plugin optimizer for device_type GPU is enabled.\n"
     ]
    },
    {
     "name": "stdout",
     "output_type": "stream",
     "text": [
      "[45, 78, 98, 139, 151]\n",
      "[8, 1, 5, 9, 3]\n"
     ]
    }
   ],
   "source": [
    "off = 44\n",
    "n = 110\n",
    "idx, pred = perfu.get_error_index(model, X_test[off:off+n], y_test[off:off+n], off)\n",
    "\n",
    "print(idx)\n",
    "print(pred)"
   ]
  },
  {
   "cell_type": "code",
   "execution_count": 11,
   "id": "061c4de7",
   "metadata": {
    "scrolled": false
   },
   "outputs": [
    {
     "data": {
      "image/png": "[encoded data removed]",
      "text/plain": [
       "<Figure size 432x288 with 1 Axes>"
      ]
     },
     "metadata": {
      "needs_background": "light"
     },
     "output_type": "display_data"
    },
    {
     "data": {
      "image/png": "[encoded data removed]",
      "text/plain": [
       "<Figure size 432x288 with 1 Axes>"
      ]
     },
     "metadata": {
      "needs_background": "light"
     },
     "output_type": "display_data"
    },
    {
     "data": {
      "image/png": "[encoded data removed]",
      "text/plain": [
       "<Figure size 432x288 with 1 Axes>"
      ]
     },
     "metadata": {
      "needs_background": "light"
     },
     "output_type": "display_data"
    },
    {
     "data": {
      "image/png": "[encoded data removed]",
      "text/plain": [
       "<Figure size 432x288 with 1 Axes>"
      ]
     },
     "metadata": {
      "needs_background": "light"
     },
     "output_type": "display_data"
    },
    {
     "data": {
      "image/png": "[encoded data removed]",
      "text/plain": [
       "<Figure size 432x288 with 1 Axes>"
      ]
     },
     "metadata": {
      "needs_background": "light"
     },
     "output_type": "display_data"
    }
   ],
   "source": [
    "for i in range(len(idx)):\n",
    "    img = idx[i]\n",
    "    printer.print_image_and_prediction(X_test[img], y_test[img], pred[i], 40 )\n"
   ]
  },
  {
   "cell_type": "code",
   "execution_count": 16,
   "id": "7ba063e3",
   "metadata": {
    "scrolled": false
   },
   "outputs": [],
   "source": [
    "def show_grid(x, dimx, dimy, title, size=20.):\n",
    "    fig = plt.figure(figsize=(size, size))\n",
    "    fig.suptitle(title, fontsize=16)\n",
    "    grid = ImageGrid( fig, 111,nrows_ncols=(dimy, dimx),axes_pad=0.1, )\n",
    "    a = []\n",
    "\n",
    "    for i in range(dimx*dimy):\n",
    "        j = x[:, :, i]\n",
    "        a.append(j)\n",
    "\n",
    "    for ax, im in zip(grid, a):\n",
    "        ax.set_xticklabels([])\n",
    "        ax.set_yticklabels([])\n",
    "        ax.imshow(im, cmap=\"gray\")\n",
    "\n",
    "    fig.subplots_adjust(top=0.97) \n",
    "    plt.show()\n",
    "\n",
    "def show_conv1_rfm(x, f, b):\n",
    "    x = tf.nn.conv2d(x,f,strides=[1, 1],padding='VALID')\n",
    "    x = tf.add(x, b)\n",
    "    x = tf.nn.relu(x).numpy()\n",
    "    show_grid(x[0], 16, 16, \"Conv1 256 output 32x32x256\")\n",
    "    \n",
    "def show_prim_caps_rfm(x, f, b):\n",
    "    x = np.array(tf.reshape( x, [1, 32, 32, 256]))\n",
    "    x = tf.nn.conv2d(x,f,strides=[2, 2],padding='VALID')\n",
    "    x = tf.add(x, b)\n",
    "    show_grid(x[0], 8, 32, \"Primary Capsule 12x12x8 output, each row is a channel (32 total)\", 40.)\n",
    "\n",
    "def print_network(model, x, y, image_size):    \n",
    "    #----------------------------------------------------- INPUT\n",
    "    \n",
    "    x = tf.reshape(x, [1, image_size, image_size, 1])\n",
    "    printer.print_image_and_prediction(x, y, model.predict(x)[0], image_size)\n",
    "\n",
    "    #-------------------------------------------------------- CONV1\n",
    "\n",
    "    # filters\n",
    "    f = model.layers[0].get_weights()[0]\n",
    "    # biases\n",
    "    b = model.layers[0].get_weights()[1]\n",
    "\n",
    "    \n",
    "    show_conv1_rfm(x, f, b) # show reconstructed feature maps\n",
    "\n",
    "    #-------------------------------------------------------- OUTPUT\n",
    "\n",
    "    x = model.convolution(x)\n",
    "\n",
    "    #-------------------------------------------------------- PRIMARY CAPSULE\n",
    "\n",
    "    f = model.layers[1].get_weights()[0]\n",
    "    b = model.layers[1].get_weights()[1]\n",
    "    \n",
    "    show_prim_caps_rfm(x, f, b) # shows recostructed feature maps\n",
    "\n",
    "    #-------------------------------------------------------- OUTPUT\n",
    "\n",
    "    x = model.primary_capsule(x)"
   ]
  },
  {
   "cell_type": "code",
   "execution_count": null,
   "id": "4ba7c1c4",
   "metadata": {
    "scrolled": false
   },
   "outputs": [
    {
     "data": {
      "image/png": "[encoded data removed]",
      "text/plain": [
       "<Figure size 432x288 with 1 Axes>"
      ]
     },
     "metadata": {
      "needs_background": "light"
     },
     "output_type": "display_data"
    }
   ],
   "source": [
    "printer.print_network(model, X_test[45], y_test[45], 40)"
   ]
  },
  {
   "cell_type": "code",
   "execution_count": null,
   "id": "724ce877",
   "metadata": {},
   "outputs": [],
   "source": []
  }
 ],
 "metadata": {
  "kernelspec": {
   "display_name": "Python 3 (ipykernel)",
   "language": "python",
   "name": "python3"
  },
  "language_info": {
   "codemirror_mode": {
    "name": "ipython",
    "version": 3
   },
   "file_extension": ".py",
   "mimetype": "text/x-python",
   "name": "python",
   "nbconvert_exporter": "python",
   "pygments_lexer": "ipython3",
   "version": "3.9.12"
  }
 },
 "nbformat": 4,
 "nbformat_minor": 5
}
