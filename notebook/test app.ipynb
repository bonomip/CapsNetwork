{
 "cells": [
  {
   "cell_type": "code",
   "execution_count": 1,
   "id": "3d7eeb64",
   "metadata": {},
   "outputs": [
    {
     "name": "stdout",
     "output_type": "stream",
     "text": [
      "/Users/paolobonomi/Work/Python/CapsNetwork\n",
      "\n",
      "\n",
      " \t\t---- SET UP LOGS ---\n",
      "\n",
      "\n",
      "Metal device set to: Apple M1\n",
      "\n",
      "\n",
      " \t\t---- SET UP DATA SET ---\n",
      "\n",
      "\n"
     ]
    },
    {
     "name": "stderr",
     "output_type": "stream",
     "text": [
      "2022-06-13 18:20:59.242354: I tensorflow/core/common_runtime/pluggable_device/pluggable_device_factory.cc:305] Could not identify NUMA node of platform GPU ID 0, defaulting to 0. Your kernel may not have been built with NUMA support.\n",
      "2022-06-13 18:20:59.242435: I tensorflow/core/common_runtime/pluggable_device/pluggable_device_factory.cc:271] Created TensorFlow device (/job:localhost/replica:0/task:0/device:GPU:0 with 0 MB memory) -> physical PluggableDevice (device: 0, name: METAL, pci bus id: <undefined>)\n"
     ]
    },
    {
     "name": "stdout",
     "output_type": "stream",
     "text": [
      "WARNING:tensorflow:From /Users/paolobonomi/miniforge3/envs/env_tf/lib/python3.9/site-packages/tensorflow/python/ops/summary_ops_v2.py:1307: start (from tensorflow.python.eager.profiler) is deprecated and will be removed after 2020-07-01.\n",
      "Instructions for updating:\n",
      "use `tf.profiler.experimental.start` instead.\n",
      "\n",
      "\n",
      " \t\t---- LOAD MODEL ---\n",
      "\n",
      "\n",
      "\n",
      "\n",
      " \t\t---- BUILD MODEL ---\n",
      "\n",
      "\n"
     ]
    },
    {
     "name": "stderr",
     "output_type": "stream",
     "text": [
      "2022-06-13 18:20:59.770793: I tensorflow/core/profiler/lib/profiler_session.cc:110] Profiler session initializing.\n",
      "2022-06-13 18:20:59.770810: I tensorflow/core/profiler/lib/profiler_session.cc:125] Profiler session started.\n",
      "2022-06-13 18:21:00.379937: W tensorflow/core/platform/profile_utils/cpu_utils.cc:128] Failed to get CPU frequency: 0 Hz\n",
      "2022-06-13 18:21:00.380017: I tensorflow/core/grappler/optimizers/custom_graph_optimizer_registry.cc:113] Plugin optimizer for device_type GPU is enabled.\n",
      "2022-06-13 18:21:01.198731: I tensorflow/core/grappler/optimizers/custom_graph_optimizer_registry.cc:113] Plugin optimizer for device_type GPU is enabled.\n"
     ]
    },
    {
     "name": "stdout",
     "output_type": "stream",
     "text": [
      "WARNING:tensorflow:From /Users/paolobonomi/miniforge3/envs/env_tf/lib/python3.9/site-packages/tensorflow/python/ops/summary_ops_v2.py:1358: stop (from tensorflow.python.eager.profiler) is deprecated and will be removed after 2020-07-01.\n",
      "Instructions for updating:\n",
      "use `tf.profiler.experimental.stop` instead.\n",
      "WARNING:tensorflow:From /Users/paolobonomi/miniforge3/envs/env_tf/lib/python3.9/site-packages/tensorflow/python/ops/summary_ops_v2.py:1358: save (from tensorflow.python.eager.profiler) is deprecated and will be removed after 2020-07-01.\n",
      "Instructions for updating:\n",
      "`tf.python.eager.profiler` has deprecated, use `tf.profiler` instead.\n",
      "WARNING:tensorflow:From /Users/paolobonomi/miniforge3/envs/env_tf/lib/python3.9/site-packages/tensorflow/python/eager/profiler.py:150: maybe_create_event_file (from tensorflow.python.eager.profiler) is deprecated and will be removed after 2020-07-01.\n",
      "Instructions for updating:\n",
      "`tf.python.eager.profiler` has deprecated, use `tf.profiler` instead.\n"
     ]
    },
    {
     "name": "stderr",
     "output_type": "stream",
     "text": [
      "2022-06-13 18:21:03.540107: I tensorflow/core/profiler/lib/profiler_session.cc:67] Profiler session collecting data.\n",
      "2022-06-13 18:21:03.542998: I tensorflow/core/profiler/lib/profiler_session.cc:143] Profiler session tear down.\n"
     ]
    }
   ],
   "source": [
    "%cd /Users/paolobonomi/Work/Python/CapsNetwork\n",
    "import sys\n",
    "sys.path.append(\"/Users/paolobonomi/Work/Python/CapsNetwork/src\")\n",
    "\n",
    "import tensorflow as tf\n",
    "from model_10_epochs import show_plain_output, testing\n",
    "from PIL import Image\n",
    "from matplotlib import pyplot as plt\n",
    "import numpy as np"
   ]
  },
  {
   "cell_type": "code",
   "execution_count": 24,
   "id": "d537aa23",
   "metadata": {},
   "outputs": [
    {
     "name": "stdout",
     "output_type": "stream",
     "text": [
      "<class 'tensorflow.python.framework.ops.EagerTensor'>\n",
      "(28, 28, 1)\n",
      "tf.Tensor(\n",
      "[[[[0.03771781]\n",
      "   [0.12970649]\n",
      "   [0.09781539]\n",
      "   [0.9912981 ]\n",
      "   [0.10067951]\n",
      "   [0.12937908]\n",
      "   [0.04623542]\n",
      "   [0.03007555]\n",
      "   [0.10147117]\n",
      "   [0.06685476]]]], shape=(1, 1, 10, 1), dtype=float32)\n"
     ]
    },
    {
     "data": {
      "image/png": "[encoded data removed]",
      "text/plain": [
       "<Figure size 432x288 with 1 Axes>"
      ]
     },
     "metadata": {
      "needs_background": "light"
     },
     "output_type": "display_data"
    }
   ],
   "source": [
    "image = Image.open('notebook/test_2.jpeg')\n",
    "z = np.asarray(image)\n",
    "z = ( 255 - z ) / 255.0\n",
    "z = (z > 0.6) * z\n",
    "z = tf.convert_to_tensor(z, dtype=tf.float32)\n",
    "z = tf.reshape(z, [28, 28, 1])\n",
    "print(type(z))\n",
    "print(z.shape)\n",
    "\n",
    "plt.figure()\n",
    "plt.imshow(z)\n",
    "\n",
    "pred = show_plain_output(z)\n",
    "print(pred)"
   ]
  },
  {
   "cell_type": "code",
   "execution_count": 28,
   "id": "aef67571",
   "metadata": {},
   "outputs": [
    {
     "name": "stdout",
     "output_type": "stream",
     "text": [
      "<class 'tensorflow.python.framework.ops.EagerTensor'>\n",
      "(28, 28, 1)\n",
      "tf.Tensor(0.012243314, shape=(), dtype=float32)\n",
      "tf.Tensor(0.034351144, shape=(), dtype=float32)\n",
      "tf.Tensor(0.025104491, shape=(), dtype=float32)\n",
      "tf.Tensor(0.031685024, shape=(), dtype=float32)\n",
      "tf.Tensor(0.0516704, shape=(), dtype=float32)\n",
      "tf.Tensor(0.0043383217, shape=(), dtype=float32)\n",
      "tf.Tensor(0.0054787574, shape=(), dtype=float32)\n",
      "tf.Tensor(0.962147, shape=(), dtype=float32)\n",
      "tf.Tensor(0.0021285594, shape=(), dtype=float32)\n",
      "tf.Tensor(0.0042333216, shape=(), dtype=float32)\n"
     ]
    }
   ],
   "source": [
    "x, y = next(iter(testing))\n",
    "print(type(x[0]))\n",
    "print(x[0].shape)\n",
    "pred = show_plain_output(x[0])\n",
    "for p in pred[0,0]:\n",
    "    print(p[0])"
   ]
  },
  {
   "cell_type": "code",
   "execution_count": 11,
   "id": "c3443e84",
   "metadata": {},
   "outputs": [
    {
     "name": "stdout",
     "output_type": "stream",
     "text": [
      "tf.Tensor([0.36862746], shape=(1,), dtype=float32)\n"
     ]
    }
   ],
   "source": [
    "print(z[0,0])"
   ]
  },
  {
   "cell_type": "code",
   "execution_count": null,
   "id": "d81acea5",
   "metadata": {},
   "outputs": [],
   "source": []
  }
 ],
 "metadata": {
  "kernelspec": {
   "display_name": "Python 3 (ipykernel)",
   "language": "python",
   "name": "python3"
  },
  "language_info": {
   "codemirror_mode": {
    "name": "ipython",
    "version": 3
   },
   "file_extension": ".py",
   "mimetype": "text/x-python",
   "name": "python",
   "nbconvert_exporter": "python",
   "pygments_lexer": "ipython3",
   "version": "3.9.12"
  }
 },
 "nbformat": 4,
 "nbformat_minor": 5
}
