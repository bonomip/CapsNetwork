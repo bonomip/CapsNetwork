{
 "cells": [
  {
   "cell_type": "markdown",
   "id": "73928d00",
   "metadata": {
    "id": "73928d00"
   },
   "source": [
    "### Mount Drive"
   ]
  },
  {
   "cell_type": "code",
   "execution_count": 1,
   "id": "p66OZGMuHHNu",
   "metadata": {
    "colab": {
     "base_uri": "https://localhost:8080/"
    },
    "id": "p66OZGMuHHNu",
    "outputId": "f0e69fab-5be0-4841-c398-9dec51942dd3"
   },
   "outputs": [
    {
     "name": "stdout",
     "output_type": "stream",
     "text": [
      "Mounted at /content/drive\n",
      "/content/drive/.shortcut-targets-by-id/1ij9BxWymhDQrvT_zgMrzBm9k7ehaVoMi/CapsNet\n"
     ]
    }
   ],
   "source": [
    "from google.colab import drive\n",
    "drive.mount('/content/drive')\n",
    "\n",
    "%cd /content/drive/MyDrive/CapsNet"
   ]
  },
  {
   "cell_type": "markdown",
   "id": "31d895f3",
   "metadata": {
    "id": "31d895f3"
   },
   "source": [
    "### Train model in rounds\n"
   ]
  },
  {
   "cell_type": "code",
   "execution_count": null,
   "id": "fWDPgnztmY-Q",
   "metadata": {
    "colab": {
     "base_uri": "https://localhost:8080/"
    },
    "id": "fWDPgnztmY-Q",
    "outputId": "24e8ea98-93e1-4089-87ea-2bf1a63d03bc"
   },
   "outputs": [
    {
     "name": "stdout",
     "output_type": "stream",
     "text": [
      "2022-11-17 15:48:30.163920: W tensorflow/core/common_runtime/gpu/gpu_bfc_allocator.cc:42] Overriding orig_value setting because the TF_FORCE_GPU_ALLOW_GROWTH environment variable is set. Original config value was 0.\n",
      "Found GPU at: /device:GPU:0\n",
      "Load MINST training dataset from keras... \n",
      "Processing data... \n",
      "2022-11-17 15:48:31.265931: W tensorflow/core/framework/cpu_allocator_impl.cc:82] Allocation of 384000000 exceeds 10% of free system memory.\n",
      "Load MINST test dataset from keras... \n",
      "Processing data... \n",
      "Training model... \n",
      "Epoch 1/50:   0% 0/938 [00:00<?, ?it/s, patience=0]2022-11-17 15:48:31.711476: W tensorflow/core/framework/cpu_allocator_impl.cc:82] Allocation of 384000000 exceeds 10% of free system memory.\n",
      "Epoch 1/50: 100% 938/938 [21:27<00:00,  1.37s/it, acc=0.968]\n",
      "Epoch 2/50: 100% 938/938 [20:58<00:00,  1.34s/it, acc=0.976]\n",
      "Epoch 3/50: 100% 938/938 [20:49<00:00,  1.33s/it, acc=0.982]\n",
      "Epoch 4/50: 100% 938/938 [20:43<00:00,  1.33s/it, acc=0.986]\n",
      "Epoch 5/50: 100% 938/938 [20:49<00:00,  1.33s/it, acc=0.986]\n",
      "Epoch 6/50: 100% 938/938 [20:43<00:00,  1.33s/it, acc=0.988]\n",
      "Epoch 7/50: 100% 938/938 [20:48<00:00,  1.33s/it, acc=0.988]\n",
      "Epoch 8/50: 100% 938/938 [21:10<00:00,  1.35s/it, acc=0.988]\n",
      "Epoch 9/50: 100% 938/938 [20:57<00:00,  1.34s/it, acc=0.989]\n",
      "Epoch 10/50: 100% 938/938 [20:55<00:00,  1.34s/it, acc=0.989]\n",
      "Epoch 11/50:  16% 149/938 [03:06<16:18,  1.24s/it, patience=1]"
     ]
    }
   ],
   "source": [
    "!python train.py --model 5 --resume"
   ]
  },
  {
   "cell_type": "markdown",
   "id": "qDflw5x5xDvo",
   "metadata": {
    "id": "qDflw5x5xDvo"
   },
   "source": [
    "### Evaluate Performance"
   ]
  },
  {
   "cell_type": "code",
   "execution_count": null,
   "id": "nBOqzrBcxClj",
   "metadata": {
    "id": "nBOqzrBcxClj"
   },
   "outputs": [],
   "source": [
    "!python eval.py --model 0 -f 1 -t 50 --model-version '_1e-8' --main_model_version 'v3'"
   ]
  }
 ],
 "metadata": {
  "accelerator": "GPU",
  "colab": {
   "provenance": []
  },
  "gpuClass": "standard",
  "kernelspec": {
   "display_name": "Python 3 (ipykernel)",
   "language": "python",
   "name": "python3"
  },
  "language_info": {
   "codemirror_mode": {
    "name": "ipython",
    "version": 3
   },
   "file_extension": ".py",
   "mimetype": "text/x-python",
   "name": "python",
   "nbconvert_exporter": "python",
   "pygments_lexer": "ipython3",
   "version": "3.9.12"
  },
  "vscode": {
   "interpreter": {
    "hash": "27039add6037919ceee90f8f6a1ded5e18fb50dba46fc6f2fa7bb5396680f76d"
   }
  }
 },
 "nbformat": 4,
 "nbformat_minor": 5
}
