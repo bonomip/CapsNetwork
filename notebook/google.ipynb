{
  "cells": [
    {
      "cell_type": "markdown",
      "id": "73928d00",
      "metadata": {
        "id": "73928d00"
      },
      "source": [
        "### Import statements"
      ]
    },
    {
      "cell_type": "code",
      "source": [
        "from google.colab import drive\n",
        "drive.mount('/content/drive')"
      ],
      "metadata": {
        "colab": {
          "base_uri": "https://localhost:8080/"
        },
        "id": "p66OZGMuHHNu",
        "outputId": "4bb75ecb-5d2a-41c6-8cc8-495cf7c455c9"
      },
      "id": "p66OZGMuHHNu",
      "execution_count": 1,
      "outputs": [
        {
          "output_type": "stream",
          "name": "stdout",
          "text": [
            "Mounted at /content/drive\n"
          ]
        }
      ]
    },
    {
      "cell_type": "code",
      "execution_count": 2,
      "id": "a49a542b",
      "metadata": {
        "id": "a49a542b"
      },
      "outputs": [],
      "source": [
        "%%capture\n",
        "\n",
        "%cd /content/drive/MyDrive/CapsNet\n",
        "\n",
        "import sys\n",
        "sys.path.append(\"./src\")\n",
        "from setup import Setup # set up model and dataset"
      ]
    },
    {
      "cell_type": "markdown",
      "id": "31d895f3",
      "metadata": {
        "id": "31d895f3"
      },
      "source": [
        "### Train model in rounds\n"
      ]
    },
    {
      "cell_type": "code",
      "source": [
        "model_id = Setup.GEN[0]\n",
        "model_version = \"_v1\"\n",
        "dataset_version = \"_v1\"\n",
        "ckpt_for_epochs = 1\n",
        "last_epoch = 16"
      ],
      "metadata": {
        "id": "CPNwuMhTmMFR"
      },
      "id": "CPNwuMhTmMFR",
      "execution_count": 3,
      "outputs": []
    },
    {
      "cell_type": "code",
      "source": [
        "setup = Setup(debug=False)\n",
        "X_train, y_train, dataset = setup.load_data(model_id, train=True, version=dataset_version, create=False)\n",
        "model = setup.init_model(model_id, model_version)\n",
        "model = setup.load_ckpt(model, X_train, y_train, epochs=last_epoch)\n",
        "model = setup.train_model(model, dataset, epochs=50, start_epoch=last_epoch)"
      ],
      "metadata": {
        "colab": {
          "base_uri": "https://localhost:8080/"
        },
        "id": "fWDPgnztmY-Q",
        "outputId": "25f48491-829e-46f8-e52f-c3027fd46f97"
      },
      "id": "fWDPgnztmY-Q",
      "execution_count": null,
      "outputs": [
        {
          "output_type": "stream",
          "name": "stdout",
          "text": [
            "Found GPU at: /device:GPU:0\n",
            "Load MINST training dataset from keras... \n",
            "Processing data... \n",
            "Loading model... \n",
            "Training model... \n"
          ]
        },
        {
          "output_type": "stream",
          "name": "stderr",
          "text": [
            "Epoch 17/50: 100%|██████████| 938/938 [19:20<00:00,  1.24s/it,  Checkpoint Saved]\n",
            "Epoch 18/50: 100%|██████████| 938/938 [19:58<00:00,  1.28s/it,  Checkpoint Saved]\n",
            "Epoch 19/50: 100%|██████████| 938/938 [20:18<00:00,  1.30s/it,  Checkpoint Saved]\n",
            "Epoch 20/50:  99%|█████████▉| 930/938 [20:56<00:09,  1.22s/it]"
          ]
        }
      ]
    }
  ],
  "metadata": {
    "kernelspec": {
      "display_name": "Python 3.9.12 ('env_tf')",
      "language": "python",
      "name": "python3"
    },
    "language_info": {
      "codemirror_mode": {
        "name": "ipython",
        "version": 3
      },
      "file_extension": ".py",
      "mimetype": "text/x-python",
      "name": "python",
      "nbconvert_exporter": "python",
      "pygments_lexer": "ipython3",
      "version": "3.9.12"
    },
    "vscode": {
      "interpreter": {
        "hash": "27039add6037919ceee90f8f6a1ded5e18fb50dba46fc6f2fa7bb5396680f76d"
      }
    },
    "colab": {
      "provenance": []
    },
    "accelerator": "GPU",
    "gpuClass": "standard"
  },
  "nbformat": 4,
  "nbformat_minor": 5
}