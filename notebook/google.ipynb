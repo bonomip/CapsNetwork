{
  "cells": [
    {
      "cell_type": "markdown",
      "id": "73928d00",
      "metadata": {
        "id": "73928d00"
      },
      "source": [
        "### Import statements"
      ]
    },
    {
      "cell_type": "code",
      "source": [
        "from google.colab import drive\n",
        "drive.mount('/content/drive')"
      ],
      "metadata": {
        "colab": {
          "base_uri": "https://localhost:8080/"
        },
        "id": "p66OZGMuHHNu",
        "outputId": "bcf4b624-adee-407e-bc5f-bc8d99e4152f"
      },
      "id": "p66OZGMuHHNu",
      "execution_count": 1,
      "outputs": [
        {
          "output_type": "stream",
          "name": "stdout",
          "text": [
            "Mounted at /content/drive\n"
          ]
        }
      ]
    },
    {
      "cell_type": "code",
      "execution_count": 2,
      "id": "a49a542b",
      "metadata": {
        "id": "a49a542b"
      },
      "outputs": [],
      "source": [
        "%%capture\n",
        "\n",
        "%cd /content/drive/MyDrive/CapsNet\n",
        "\n",
        "import numpy as np\n",
        "import tensorflow as tf\n",
        "\n",
        "import sys\n",
        "\n",
        "sys.path.append(\"./src\")\n",
        "\n",
        "from setup import Setup # set up model and dataset\n",
        "import perfu # performance function such as confusion matrix etc...\n",
        "import printer"
      ]
    },
    {
      "cell_type": "markdown",
      "id": "31d895f3",
      "metadata": {
        "id": "31d895f3"
      },
      "source": [
        "### Train model in rounds\n"
      ]
    },
    {
      "cell_type": "code",
      "source": [
        "model_id = Setup.GEN[0]\n",
        "test_id = Setup.GEN[0]\n",
        "\n",
        "model_version = \"_v1\"\n",
        "dataset_version = \"_v1\"\n",
        "\n",
        "ckpt_for_epochs = 1\n",
        "last_epoch = 4"
      ],
      "metadata": {
        "id": "CPNwuMhTmMFR"
      },
      "id": "CPNwuMhTmMFR",
      "execution_count": null,
      "outputs": []
    },
    {
      "cell_type": "code",
      "source": [
        "setup = Setup(debug=True)\n",
        "X_train, y_train, dataset = setup.load_data(model_id, train=True, version=dataset_version, create=False)\n",
        "model = setup.init_model(model_id, model_version)\n",
        "model = setup.load_ckpt(model, X_train, y_train, epochs=last_epoch)\n",
        "model = setup.train_model(model, dataset, setup.get_total_images(X_train), epochs=50, start_epoch=last_epoch)"
      ],
      "metadata": {
        "id": "fWDPgnztmY-Q"
      },
      "id": "fWDPgnztmY-Q",
      "execution_count": null,
      "outputs": []
    },
    {
      "cell_type": "code",
      "source": [],
      "metadata": {
        "id": "Pe9pLaRPmY14"
      },
      "id": "Pe9pLaRPmY14",
      "execution_count": null,
      "outputs": []
    }
  ],
  "metadata": {
    "kernelspec": {
      "display_name": "Python 3.9.12 ('env_tf')",
      "language": "python",
      "name": "python3"
    },
    "language_info": {
      "codemirror_mode": {
        "name": "ipython",
        "version": 3
      },
      "file_extension": ".py",
      "mimetype": "text/x-python",
      "name": "python",
      "nbconvert_exporter": "python",
      "pygments_lexer": "ipython3",
      "version": "3.9.12"
    },
    "vscode": {
      "interpreter": {
        "hash": "27039add6037919ceee90f8f6a1ded5e18fb50dba46fc6f2fa7bb5396680f76d"
      }
    },
    "colab": {
      "provenance": []
    },
    "accelerator": "GPU",
    "gpuClass": "standard"
  },
  "nbformat": 4,
  "nbformat_minor": 5
}