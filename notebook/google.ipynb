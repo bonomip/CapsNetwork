{
  "cells": [
    {
      "cell_type": "markdown",
      "id": "73928d00",
      "metadata": {
        "id": "73928d00"
      },
      "source": [
        "### Mount Drive"
      ]
    },
    {
      "cell_type": "code",
      "source": [
        "from google.colab import drive\n",
        "drive.mount('/content/drive')\n",
        "\n",
        "%cd /content/drive/MyDrive/CapsNet"
      ],
      "metadata": {
        "id": "p66OZGMuHHNu"
      },
      "id": "p66OZGMuHHNu",
      "execution_count": null,
      "outputs": []
    },
    {
      "cell_type": "markdown",
      "id": "31d895f3",
      "metadata": {
        "id": "31d895f3"
      },
      "source": [
        "### Train model in rounds\n"
      ]
    },
    {
      "cell_type": "code",
      "execution_count": 2,
      "id": "a49a542b",
      "metadata": {
        "id": "a49a542b"
      },
      "outputs": [],
      "source": [
        "import sys\n",
        "sys.path.append(\"./src\")\n",
        "from setup import Setup # set up model and dataset"
      ]
    },
    {
      "cell_type": "code",
      "source": [
        "model_id = Setup.GEN[0]\n",
        "model_version = \"_v1\"\n",
        "dataset_version = \"_v1\"\n",
        "ckpt_for_epochs = 1\n",
        "last_epoch = 16"
      ],
      "metadata": {
        "id": "aEOLj2Av4cQ_"
      },
      "id": "aEOLj2Av4cQ_",
      "execution_count": null,
      "outputs": []
    },
    {
      "cell_type": "code",
      "source": [
        "setup = Setup(debug=False)\n",
        "X_train, y_train, dataset = setup.load_data(model_id, train=True, version=dataset_version, create=False)\n",
        "model = setup.init_model(model_id, model_version)\n",
        "model = setup.load_ckpt(model, X_train, y_train, epochs=last_epoch)"
      ],
      "metadata": {
        "id": "CPNwuMhTmMFR"
      },
      "id": "CPNwuMhTmMFR",
      "execution_count": null,
      "outputs": []
    },
    {
      "cell_type": "code",
      "source": [
        "model = setup.train_model(model, dataset, epochs=50, start_epoch=last_epoch)"
      ],
      "metadata": {
        "id": "fWDPgnztmY-Q"
      },
      "id": "fWDPgnztmY-Q",
      "execution_count": null,
      "outputs": []
    },
    {
      "cell_type": "markdown",
      "source": [
        "### Evaluate Performance"
      ],
      "metadata": {
        "id": "qDflw5x5xDvo"
      },
      "id": "qDflw5x5xDvo"
    },
    {
      "cell_type": "code",
      "source": [
        "!python eval.py --model 0 --epochs 16 --no-gpu"
      ],
      "metadata": {
        "id": "nBOqzrBcxClj",
        "outputId": "ed7870e1-d594-43e4-cd17-3da6bbbcdc6e",
        "colab": {
          "base_uri": "https://localhost:8080/"
        }
      },
      "id": "nBOqzrBcxClj",
      "execution_count": null,
      "outputs": [
        {
          "output_type": "stream",
          "name": "stdout",
          "text": [
            "Load MINST training dataset from keras... \n",
            "Downloading data from https://storage.googleapis.com/tensorflow/tf-keras-datasets/mnist.npz\n",
            "11490434/11490434 [==============================] - 0s 0us/step\n",
            "Processing data... \n",
            "2022-11-09 10:07:21.911058: E tensorflow/stream_executor/cuda/cuda_driver.cc:271] failed call to cuInit: CUDA_ERROR_NO_DEVICE: no CUDA-capable device is detected\n",
            "Loading model... \n",
            "Evaluating accuracy on MNIST @ 1-th Epoch:  15% 139/938 [07:10<39:30,  2.97s/it]"
          ]
        }
      ]
    }
  ],
  "metadata": {
    "kernelspec": {
      "display_name": "Python 3.9.12 ('env_tf')",
      "language": "python",
      "name": "python3"
    },
    "language_info": {
      "codemirror_mode": {
        "name": "ipython",
        "version": 3
      },
      "file_extension": ".py",
      "mimetype": "text/x-python",
      "name": "python",
      "nbconvert_exporter": "python",
      "pygments_lexer": "ipython3",
      "version": "3.9.12"
    },
    "vscode": {
      "interpreter": {
        "hash": "27039add6037919ceee90f8f6a1ded5e18fb50dba46fc6f2fa7bb5396680f76d"
      }
    },
    "colab": {
      "provenance": []
    },
    "gpuClass": "standard"
  },
  "nbformat": 4,
  "nbformat_minor": 5
}