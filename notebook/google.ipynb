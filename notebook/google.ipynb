{
  "cells": [
    {
      "cell_type": "markdown",
      "id": "73928d00",
      "metadata": {
        "id": "73928d00"
      },
      "source": [
        "### Mount Drive"
      ]
    },
    {
      "cell_type": "code",
      "source": [
        "from google.colab import drive\n",
        "drive.mount('/content/drive')\n",
        "\n",
        "%cd /content/drive/MyDrive/CapsNet"
      ],
      "metadata": {
        "id": "p66OZGMuHHNu",
        "outputId": "6a604681-5440-48e9-cbcc-596289f014dc",
        "colab": {
          "base_uri": "https://localhost:8080/"
        }
      },
      "id": "p66OZGMuHHNu",
      "execution_count": null,
      "outputs": [
        {
          "output_type": "stream",
          "name": "stdout",
          "text": [
            "Drive already mounted at /content/drive; to attempt to forcibly remount, call drive.mount(\"/content/drive\", force_remount=True).\n",
            "/content/drive/MyDrive/CapsNet\n"
          ]
        }
      ]
    },
    {
      "cell_type": "markdown",
      "id": "31d895f3",
      "metadata": {
        "id": "31d895f3"
      },
      "source": [
        "### Train model in rounds\n"
      ]
    },
    {
      "cell_type": "code",
      "source": [
        "!python train.py --model 0 -f 0 --model-version _v2"
      ],
      "metadata": {
        "id": "fWDPgnztmY-Q"
      },
      "id": "fWDPgnztmY-Q",
      "execution_count": null,
      "outputs": []
    },
    {
      "cell_type": "markdown",
      "source": [
        "### Evaluate Performance"
      ],
      "metadata": {
        "id": "qDflw5x5xDvo"
      },
      "id": "qDflw5x5xDvo"
    },
    {
      "cell_type": "code",
      "source": [
        "!python eval.py --model 0 -f 0 -t 50 --model-version _v2"
      ],
      "metadata": {
        "id": "nBOqzrBcxClj",
        "outputId": "ed7870e1-d594-43e4-cd17-3da6bbbcdc6e",
        "colab": {
          "base_uri": "https://localhost:8080/"
        }
      },
      "id": "nBOqzrBcxClj",
      "execution_count": null,
      "outputs": [
        {
          "output_type": "stream",
          "name": "stdout",
          "text": [
            "Load MINST training dataset from keras... \n",
            "Downloading data from https://storage.googleapis.com/tensorflow/tf-keras-datasets/mnist.npz\n",
            "11490434/11490434 [==============================] - 0s 0us/step\n",
            "Processing data... \n",
            "2022-11-09 10:07:21.911058: E tensorflow/stream_executor/cuda/cuda_driver.cc:271] failed call to cuInit: CUDA_ERROR_NO_DEVICE: no CUDA-capable device is detected\n",
            "Loading model... \n",
            "Evaluating accuracy on MNIST @ 1-th Epoch:  15% 139/938 [07:10<39:30,  2.97s/it]"
          ]
        }
      ]
    }
  ],
  "metadata": {
    "kernelspec": {
      "display_name": "Python 3.9.12 ('env_tf')",
      "language": "python",
      "name": "python3"
    },
    "language_info": {
      "codemirror_mode": {
        "name": "ipython",
        "version": 3
      },
      "file_extension": ".py",
      "mimetype": "text/x-python",
      "name": "python",
      "nbconvert_exporter": "python",
      "pygments_lexer": "ipython3",
      "version": "3.9.12"
    },
    "vscode": {
      "interpreter": {
        "hash": "27039add6037919ceee90f8f6a1ded5e18fb50dba46fc6f2fa7bb5396680f76d"
      }
    },
    "colab": {
      "provenance": []
    },
    "gpuClass": "standard",
    "accelerator": "GPU"
  },
  "nbformat": 4,
  "nbformat_minor": 5
}