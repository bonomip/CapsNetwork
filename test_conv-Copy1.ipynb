{
 "cells": [
  {
   "cell_type": "code",
   "execution_count": 1,
   "id": "80a44220-5073-4038-a3d6-b6fab0554beb",
   "metadata": {},
   "outputs": [],
   "source": [
    "import tensorflow as tf"
   ]
  },
  {
   "cell_type": "code",
   "execution_count": 2,
   "id": "317d8b5b-387e-429d-bd39-ff56894fddbd",
   "metadata": {},
   "outputs": [],
   "source": [
    "def prints(text, shape):\n",
    "    print(text + \" \" + str(shape))\n",
    "    \n",
    "def printw(w): # use it only in the first example\n",
    "    print(\"\\n first filter\\n\")\n",
    "    print(w[:, :, 0, 0]) # first filter first dimension\n",
    "    print()\n",
    "    print(w[:, :, 1, 0]) # first filter second dimension\n",
    "    print()\n",
    "    print(w[:, :, 2, 0]) # first filter third dimension\n",
    "    print(\"\\n second filter\\n\")\n",
    "    print(w[:, :, 0, 1]) # second filter first dimension\n",
    "    print()\n",
    "    print(w[:, :, 1, 1]) # second filter second dimension\n",
    "    print()\n",
    "    print(w[:, :, 2, 1]) # second filter third dimension\n",
    "    "
   ]
  },
  {
   "cell_type": "markdown",
   "id": "1804e378-308c-4cd5-829b-26dd20ee18db",
   "metadata": {},
   "source": [
    "# CONVOLUTION ON MULTI CHANNEL IMAGE\n",
    "\n",
    "Applying a 2D Convolution (with kernel size of 9), our kernel will look different to the single channel case (layer Conv1). Given we have 256 input channels this time, our kernel will be initialised with 256 channels too. So even though we are using a 2D Convolution, we have a 3D kernel.\n",
    "\n",
    "A 2D Convolution just means we slide the kernel along two dimension, it doesn’t necessarily define the shape of the kernel, since that depends on the shape of the input channels too. Viewed like this, we think as if each channel has its own 9x9 kernel. A kernel still looks at patterns across channels though, since we have the cross channel summation at the end\n",
    "\n",
    "ref @ https://medium.com/apache-mxnet/multi-channel-convolutions-explained-with-ms-excel-9bbf8eb77108"
   ]
  },
  {
   "cell_type": "markdown",
   "id": "f0e5b954-0362-421b-baa3-bd45943b94f6",
   "metadata": {},
   "source": [
    "# CONVOLUTION 2D\n",
    "\n",
    "When using this layer as the first layer in a model, provide the keyword argument input_shape (tuple of integers or None, does not include the sample axis), e.g. input_shape=(128, 128, 3) for 128x128 RGB pictures in data_format=\"channels_last\". You can use None when a dimension has variable size.\n",
    "\n",
    "ref @ https://keras.io/api/layers/convolution_layers/convolution2d/"
   ]
  },
  {
   "cell_type": "code",
   "execution_count": 5,
   "id": "216cd447-142e-4a50-bc1e-f0b7fa163243",
   "metadata": {},
   "outputs": [],
   "source": [
    "def conv2d(input_shape, trim, number_of_filters, kernel_size):\n",
    "    x = tf.random.normal(input_shape)\n",
    "    #use trim to select only an image inside the batch\n",
    "    layer = tf.keras.layers.Conv2D(number_of_filters, kernel_size, activation='relu', input_shape=input_shape[trim:])\n",
    "    y = layer(x)\n",
    "    prints(\"Weights shape:\", layer.get_weights()[0].shape)\n",
    "    prints(\"Biases shape:\", layer.get_weights()[1].shape)\n",
    "    print(\"Output shape:\", y.shape)\n",
    "    return layer.get_weights()[0]"
   ]
  },
  {
   "cell_type": "markdown",
   "id": "07213486-41b9-4c5f-b443-21c608358763",
   "metadata": {},
   "source": [
    "# 28x28 RGB with batch size 4\n",
    "a 3D Convolution with kernel shape `[kernel_size, kernel_size, input_shape_channels]` would be equivalent in this situation, but with a 2D Convolution you don’t need to specify the channel dimension."
   ]
  },
  {
   "cell_type": "code",
   "execution_count": 6,
   "id": "19d0c2f6-1da1-4199-ac77-47dea8648d23",
   "metadata": {},
   "outputs": [],
   "source": [
    "input_shape_channels = 3\n",
    "input_shape = (4, 28, 28, input_shape_channels)"
   ]
  },
  {
   "cell_type": "code",
   "execution_count": 14,
   "id": "41efd66e-bbc2-47f7-a6d8-fd829936a5f7",
   "metadata": {},
   "outputs": [
    {
     "name": "stdout",
     "output_type": "stream",
     "text": [
      "Weights shape: (2, 2, 3, 2)\n",
      "Biases shape: (2,)\n",
      "Output shape: (4, 7, 28, 27, 27, 2)\n"
     ]
    }
   ],
   "source": [
    "number_of_filters = 2\n",
    "kernel_size = 2 # it's se same of kenrel_size = [2, 2]\n",
    "\n",
    "w = conv2d(input_shape, 1, number_of_filters, kernel_size)\n",
    "\n",
    "# printw(w)"
   ]
  },
  {
   "cell_type": "markdown",
   "id": "8f5bd695-518d-434d-9ea6-bf264837f95c",
   "metadata": {},
   "source": [
    "# 28x28 GRAYSCALE with batch size 4\n"
   ]
  },
  {
   "cell_type": "code",
   "execution_count": 8,
   "id": "626932ba-4a41-4d71-9573-4ec1d6187611",
   "metadata": {},
   "outputs": [
    {
     "name": "stdout",
     "output_type": "stream",
     "text": [
      "Weights shape: (2, 2, 1, 5)\n",
      "Biases shape: (5,)\n",
      "Output shape: (4, 27, 27, 5)\n"
     ]
    }
   ],
   "source": [
    "input_shape = (4, 28, 28, 1)\n",
    "\n",
    "number_of_filters = 5\n",
    "kernel_size = 2\n",
    "\n",
    "w = conv2d(input_shape, 1, number_of_filters, kernel_size)"
   ]
  },
  {
   "cell_type": "markdown",
   "id": "5ea7a3f8-b988-45a4-81db-bc1671963ea1",
   "metadata": {},
   "source": [
    "# CONVOLUTION 3D\n",
    "\n",
    "When using this layer as the first layer in a model, provide the keyword argument\n",
    "input_shape (tuple of integers or None, does not include the sample axis), \n",
    "e.g. input_shape=(128, 128, 128, 1) for 128x128x128 volumes with a single channel,\n",
    "in data_format=\"channels_last\".\n",
    "\n",
    "ref @ https://keras.io/api/layers/convolution_layers/convolution3d/"
   ]
  },
  {
   "cell_type": "code",
   "execution_count": 9,
   "id": "a36c3134-eced-4913-9016-089bc426a6ff",
   "metadata": {},
   "outputs": [],
   "source": [
    "def conv3d(input_shape, trim, number_of_filters, kernel_size):\n",
    "    x = tf.random.normal(input_shape)\n",
    "    layer = tf.keras.layers.Conv3D(number_of_filters, kernel_size, activation='relu', input_shape=input_shape[trim:])\n",
    "    y = layer(x)\n",
    "    prints(\"Layer weights shape:\", layer.get_weights()[0].shape)\n",
    "    prints(\"Layer biases shape:\", layer.get_weights()[1].shape)\n",
    "    print(\"Layer Output shape:\", y.shape)"
   ]
  },
  {
   "cell_type": "markdown",
   "id": "9a91dcd4-64c2-400f-b4a1-5eaa3cd947f5",
   "metadata": {},
   "source": [
    "# 28x28x28 volumes with a single channel and batch size 4"
   ]
  },
  {
   "cell_type": "code",
   "execution_count": 10,
   "id": "9f19700a-d09a-40db-8cf4-7873383aba5e",
   "metadata": {},
   "outputs": [],
   "source": [
    "input_shape =(4, 28, 28, 28, 1)"
   ]
  },
  {
   "cell_type": "code",
   "execution_count": 11,
   "id": "bb28855f-498a-4f39-8c0d-752e3bc91a73",
   "metadata": {},
   "outputs": [
    {
     "name": "stdout",
     "output_type": "stream",
     "text": [
      "Layer weights shape: (2, 2, 2, 1, 5)\n",
      "Layer biases shape: (5,)\n",
      "Layer Output shape: (4, 27, 27, 27, 5)\n"
     ]
    }
   ],
   "source": [
    "number_of_filters = 5\n",
    "kernel_size = 2 # it's se same of kenrel_size = [3, 3, 3]\n",
    "\n",
    "conv3d(input_shape, 1, number_of_filters, kernel_size)"
   ]
  },
  {
   "cell_type": "markdown",
   "id": "f3fd7fb8-149a-41cd-85a9-eae61b492a3c",
   "metadata": {},
   "source": [
    "# 28x28x28 volumes with 3 channels\n",
    "e.g. a batch of 4 videos of 3D frames, with 7 frames per video."
   ]
  },
  {
   "cell_type": "code",
   "execution_count": 12,
   "id": "585ff71d-0215-44d0-a956-7133c39cb400",
   "metadata": {},
   "outputs": [],
   "source": [
    "input_shape = (4, 7, 28, 28, 28, 3)"
   ]
  },
  {
   "cell_type": "code",
   "execution_count": 13,
   "id": "26ef3626-9606-46f8-9a09-4b164a1c2913",
   "metadata": {},
   "outputs": [
    {
     "name": "stdout",
     "output_type": "stream",
     "text": [
      "Layer weights shape: (2, 2, 2, 3, 5)\n",
      "Layer biases shape: (5,)\n",
      "Layer Output shape: (4, 7, 27, 27, 27, 5)\n"
     ]
    }
   ],
   "source": [
    "number_of_filters = 5\n",
    "kernel_size = 2\n",
    "\n",
    "conv3d(input_shape, 2, number_of_filters, kernel_size)"
   ]
  }
 ],
 "metadata": {
  "kernelspec": {
   "display_name": "Python 3 (ipykernel)",
   "language": "python",
   "name": "python3"
  },
  "language_info": {
   "codemirror_mode": {
    "name": "ipython",
    "version": 3
   },
   "file_extension": ".py",
   "mimetype": "text/x-python",
   "name": "python",
   "nbconvert_exporter": "python",
   "pygments_lexer": "ipython3",
   "version": "3.9.12"
  }
 },
 "nbformat": 4,
 "nbformat_minor": 5
}
